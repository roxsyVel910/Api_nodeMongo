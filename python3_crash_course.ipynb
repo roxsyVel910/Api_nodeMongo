{
  "cells": [
    {
      "cell_type": "markdown",
      "metadata": {
        "id": "A1n3iaGfLXH8"
      },
      "source": [
        "# 1. Very simple 'programs'\n",
        "## 1.1 Running Python code\n",
        "Typically, in order to run Python code, you can run it directly from the command line. But with this Jupyter Notebook you can type the commands in the fields and execute them, thus running code in your browser.<br>\n",
        "\n",
        "To start, we will print a \"Hello World\". In the field below, type:<br>\n",
        "```python\n",
        "print('Hello, World')\n",
        "```\n",
        "Then press `<shift> + <return>` to execute the command.\n",
        "\n"
      ]
    },
    {
      "cell_type": "code",
      "execution_count": 2,
      "metadata": {
        "colab": {
          "base_uri": "https://localhost:8080/"
        },
        "id": "VG1ZkLFqLXH8",
        "outputId": "9a3f20a1-7376-4d12-d2ee-27488f668c8a"
      },
      "outputs": [
        {
          "output_type": "stream",
          "name": "stdout",
          "text": [
            "Hello, World\n"
          ]
        }
      ],
      "source": [
        "# type the code below this line\n",
        "print('Hello, World')"
      ]
    },
    {
      "cell_type": "markdown",
      "metadata": {
        "id": "8i6ByYfLLXH9"
      },
      "source": [
        "What happened?\n",
        "\n",
        "You just created a program, that prints the words 'Hello, World'. The Python environment that you are in immediately [compiles](https://en.wikipedia.org/wiki/Compiler) whatever you have typed in. This is useful for testing things, e.g. define a few variables, and then test to see if a certain line will work. That will come in a later lesson, though."
      ]
    },
    {
      "cell_type": "markdown",
      "metadata": {
        "id": "SbUf4vGJLXH9"
      },
      "source": [
        "## 1.2 Math in Python\n",
        "\n",
        "Next, we will introduce you to some basic math exercises.\n",
        "\n",
        "Type<br>\n",
        "```python\n",
        "1 + 1\n",
        "```\n",
        "and execute the code."
      ]
    },
    {
      "cell_type": "code",
      "execution_count": 3,
      "metadata": {
        "colab": {
          "base_uri": "https://localhost:8080/"
        },
        "id": "5u2jvvSVLXH9",
        "outputId": "595cdcb5-54cd-4517-9604-18e3468a35b1",
        "scrolled": true
      },
      "outputs": [
        {
          "output_type": "execute_result",
          "data": {
            "text/plain": [
              "2"
            ]
          },
          "metadata": {},
          "execution_count": 3
        }
      ],
      "source": [
        " 1 + 1"
      ]
    },
    {
      "cell_type": "markdown",
      "metadata": {
        "id": "vYH6iR7mLXH-"
      },
      "source": [
        "Now type\n",
        "```python\n",
        "20 + 80\n",
        "```\n",
        "and execute the code."
      ]
    },
    {
      "cell_type": "code",
      "execution_count": null,
      "metadata": {
        "colab": {
          "base_uri": "https://localhost:8080/"
        },
        "id": "7H_Een5ALXH-",
        "outputId": "970e07e7-9e5b-4a21-d34a-496f7a05c96e"
      },
      "outputs": [
        {
          "data": {
            "text/plain": [
              "100"
            ]
          },
          "execution_count": 4,
          "metadata": {},
          "output_type": "execute_result"
        }
      ],
      "source": [
        "20 + 80\n"
      ]
    },
    {
      "cell_type": "markdown",
      "metadata": {
        "id": "RMKRymLpLXH_"
      },
      "source": [
        "These are additions. We can of course use other mathematical operators.<br>\n",
        "Try this subtraction:<br>\n",
        "```python\n",
        "6 - 5\n",
        "```"
      ]
    },
    {
      "cell_type": "code",
      "execution_count": null,
      "metadata": {
        "colab": {
          "base_uri": "https://localhost:8080/"
        },
        "id": "BCfdzaxgLXH_",
        "outputId": "910f6932-c5c2-4cfb-8055-0255e7ac7637"
      },
      "outputs": [
        {
          "data": {
            "text/plain": [
              "1"
            ]
          },
          "execution_count": 5,
          "metadata": {},
          "output_type": "execute_result"
        }
      ],
      "source": [
        "6 - 5"
      ]
    },
    {
      "cell_type": "markdown",
      "metadata": {
        "id": "Ban3tbKSLXH_"
      },
      "source": [
        "and this multiplication:<br>\n",
        "```python\n",
        "2 * 5\n",
        "```"
      ]
    },
    {
      "cell_type": "code",
      "execution_count": 6,
      "metadata": {
        "id": "W_lgVSZ2LXIA",
        "outputId": "04a6b598-96bd-45e0-b12d-2626fb3cec5b",
        "colab": {
          "base_uri": "https://localhost:8080/"
        }
      },
      "outputs": [
        {
          "output_type": "execute_result",
          "data": {
            "text/plain": [
              "10"
            ]
          },
          "metadata": {},
          "execution_count": 6
        }
      ],
      "source": [
        " 2 * 5"
      ]
    },
    {
      "cell_type": "markdown",
      "metadata": {
        "id": "whClvhqtLXIA"
      },
      "source": [
        "Try:\n",
        "```python\n",
        "5 ** 2\n",
        "```"
      ]
    },
    {
      "cell_type": "code",
      "execution_count": 8,
      "metadata": {
        "id": "zK3OGPhqLXIA",
        "outputId": "8116a0d3-17d4-4ba0-c30d-3281921885a7",
        "colab": {
          "base_uri": "https://localhost:8080/"
        }
      },
      "outputs": [
        {
          "output_type": "execute_result",
          "data": {
            "text/plain": [
              "25"
            ]
          },
          "metadata": {},
          "execution_count": 8
        }
      ],
      "source": [
        "5 ** 2"
      ]
    },
    {
      "cell_type": "markdown",
      "metadata": {
        "id": "jqFtpQ5FLXIA"
      },
      "source": [
        "`**` is the exponential operator, so we executed 5 squared."
      ]
    },
    {
      "cell_type": "markdown",
      "metadata": {
        "id": "bKjtUD_aLXIA"
      },
      "source": [
        "Type:\n",
        "```python\n",
        "print('1 + 2 is an addition')\n",
        "```"
      ]
    },
    {
      "cell_type": "code",
      "execution_count": 9,
      "metadata": {
        "id": "ttRFLgSELXIB",
        "outputId": "19bb6b3b-1ca4-494a-cee2-3925b874176d",
        "colab": {
          "base_uri": "https://localhost:8080/"
        }
      },
      "outputs": [
        {
          "output_type": "stream",
          "name": "stdout",
          "text": [
            "1 + 2 is an addition\n"
          ]
        }
      ],
      "source": [
        "print('1 + 2 is an addition')"
      ]
    },
    {
      "cell_type": "markdown",
      "metadata": {
        "id": "ocsaNQn0LXIB"
      },
      "source": [
        "You see that the `print` statement writes something on the screen.\n",
        "\n",
        "Try this:\n",
        "```python\n",
        "print('one kilobyte is 2^10 bytes, or', 2 ** 10, 'bytes')\n",
        "```"
      ]
    },
    {
      "cell_type": "code",
      "execution_count": 10,
      "metadata": {
        "id": "BJYyK7O8LXIB",
        "outputId": "02609e05-fdef-4418-b232-ddc049a9d3f7",
        "colab": {
          "base_uri": "https://localhost:8080/"
        }
      },
      "outputs": [
        {
          "output_type": "stream",
          "name": "stdout",
          "text": [
            "one kilobyte is 2^10 bytes, or 1024 bytes\n"
          ]
        }
      ],
      "source": [
        "print('one kilobyte is 2^10 bytes, or', 2 ** 10, 'bytes')"
      ]
    },
    {
      "cell_type": "markdown",
      "metadata": {
        "id": "cqn4zVLpLXIB"
      },
      "source": [
        "This demonstrates that you can print text and calculations in a sentence. The commas separating each section are a way of separating strings (text) from calculations or variable."
      ]
    },
    {
      "cell_type": "markdown",
      "metadata": {
        "id": "QPMyAtOoLXIB"
      },
      "source": [
        "Now try this:\n",
        "```python\n",
        "23 / 3\n",
        "```"
      ]
    },
    {
      "cell_type": "code",
      "execution_count": 11,
      "metadata": {
        "id": "IMA4dilbLXIB",
        "outputId": "334fd578-465b-46d8-93d2-77d5e995b40f",
        "colab": {
          "base_uri": "https://localhost:8080/"
        }
      },
      "outputs": [
        {
          "output_type": "stream",
          "name": "stdout",
          "text": [
            "7.666666666666667\n"
          ]
        }
      ],
      "source": [
        "print(23 / 3)"
      ]
    },
    {
      "cell_type": "markdown",
      "metadata": {
        "id": "eJH9B5tqLXIC"
      },
      "source": [
        "And this:<br>\n",
        "```python\n",
        "23 % 3\n",
        "```"
      ]
    },
    {
      "cell_type": "code",
      "execution_count": 12,
      "metadata": {
        "id": "tAmfcOn-LXIC",
        "outputId": "422a3380-e094-474b-bc46-c6f417dbcf7c",
        "colab": {
          "base_uri": "https://localhost:8080/"
        }
      },
      "outputs": [
        {
          "output_type": "stream",
          "name": "stdout",
          "text": [
            "2\n"
          ]
        }
      ],
      "source": [
        "print(23 % 3)"
      ]
    },
    {
      "cell_type": "markdown",
      "metadata": {
        "id": "P2Np43U-LXIC"
      },
      "source": [
        "`%` returns the remainder of the division."
      ]
    },
    {
      "cell_type": "markdown",
      "metadata": {
        "id": "LVo8q3saLXIC"
      },
      "source": [
        "## 1.3 Order of Operations"
      ]
    },
    {
      "cell_type": "markdown",
      "metadata": {
        "id": "KiFQnWqzLXIC"
      },
      "source": [
        "Remember that thing called order of operation that they taught in maths? Well, it applies in Python, too. Here it is, if you need reminding:<br>\n",
        "1. Parenthesis `()`\n",
        "2. Exponents `**`\n",
        "3. Multiplication `*`, division `/` and remainder `%`\n",
        "4. Addition `+` and subtraction `-`"
      ]
    },
    {
      "cell_type": "markdown",
      "metadata": {
        "id": "JnsY5FMELXIC"
      },
      "source": [
        "Here are some examples that you might want to try, if you're rusty on this:<br>\n",
        "```python\n",
        "1 + 2 * 3\n",
        "(1 + 2) * 3\n",
        "```"
      ]
    },
    {
      "cell_type": "code",
      "execution_count": 15,
      "metadata": {
        "id": "-1CwbQtqLXIC",
        "outputId": "c5390222-f932-45ba-bbf8-437d413311e1",
        "colab": {
          "base_uri": "https://localhost:8080/"
        }
      },
      "outputs": [
        {
          "output_type": "stream",
          "name": "stdout",
          "text": [
            "9\n"
          ]
        }
      ],
      "source": [
        "print((1 + 2) * 3)"
      ]
    },
    {
      "cell_type": "markdown",
      "metadata": {
        "id": "1404_Uu2LXIC"
      },
      "source": [
        "## 1.4 Comments, Please\n",
        "The final thing you'll need to know to move on to multi-line programs is the comment. Type the following (and yes, the output is shown):\n",
        "```python\n",
        "# I am a comment. Fear my wrath!\n",
        "```"
      ]
    },
    {
      "cell_type": "code",
      "execution_count": 19,
      "metadata": {
        "id": "EDf4ywa8LXID"
      },
      "outputs": [],
      "source": [
        "# I am a comment. Fear my wrath!"
      ]
    },
    {
      "cell_type": "markdown",
      "metadata": {
        "id": "586HJMYHLXID"
      },
      "source": [
        "A comment is a piece of code that does not run. In Python, you make something a comment by putting a hash (#) in front of it. A hash comments everything after it in the line, and nothing before it. So you could type this:\n",
        "```python\n",
        "print(\"food is very nice\") #this is a print sentence\n",
        "```"
      ]
    },
    {
      "cell_type": "code",
      "execution_count": 17,
      "metadata": {
        "id": "_nj6TMAqLXID",
        "outputId": "5ee85ee6-74e7-4073-e4fe-4471ad0642ae",
        "colab": {
          "base_uri": "https://localhost:8080/"
        }
      },
      "outputs": [
        {
          "output_type": "stream",
          "name": "stdout",
          "text": [
            "food is very nice\n"
          ]
        }
      ],
      "source": [
        "print(\"food is very nice\") #this is a print sentence"
      ]
    },
    {
      "cell_type": "markdown",
      "metadata": {
        "id": "iR3V7ckNLXID"
      },
      "source": [
        "This results in a normal output, without the smutty comment, thank you very much.\n",
        "\n",
        "Now try this:\n",
        "```python\n",
        "# print(\"food is very nice\")\n",
        "```"
      ]
    },
    {
      "cell_type": "code",
      "execution_count": 18,
      "metadata": {
        "id": "PmMhZONXLXID"
      },
      "outputs": [],
      "source": [
        "# print(\"food is very nice\")"
      ]
    },
    {
      "cell_type": "markdown",
      "metadata": {
        "id": "MdaGp0i6LXID"
      },
      "source": [
        "Nothing happens, because the code was after a comment."
      ]
    },
    {
      "cell_type": "markdown",
      "metadata": {
        "id": "8sVCTssuLXID"
      },
      "source": [
        "Comments are important for adding necessary information for another programmer to read, but not the computer. For example, an explanation of a section of code, saying what it does, or what is wrong with it. You can also comment bits of code by putting a `#` in front of it - if you don't want it to compile, but can't delete it because you might need it later."
      ]
    },
    {
      "cell_type": "markdown",
      "metadata": {
        "id": "YBeSdbaKLsn0"
      },
      "source": [
        "# 2. Programs in a file, variables and strings\n"
      ]
    },
    {
      "cell_type": "markdown",
      "metadata": {
        "id": "a2vg3bnji1HL"
      },
      "source": [
        "## 2.1 Writing scripts\n",
        "Python programs are simply text documents - you can open them up in notepad, or in an [IDE](https://en.wikipedia.org/wiki/Integrated_development_environment#:~:text=An%20integrated%20development%20environment%20(IDE,automation%20tools%20and%20a%20debugger.) like [Visual Studio Code](https://code.visualstudio.com/) or [Sublime](https://www.sublimetext.com/) and edit them. Think of it as a collection of statements and commands that execute top to bottom with some predefined rules. If you copy the below code cell and save it in a file poem.py, you got yourself a first program that could be executed from the command line by:\n",
        "\n",
        "```\n",
        "python poem.py\n",
        "```\n",
        "\n",
        "However, this is Jupyter Notebook and in a way it is a python program. If you execute the below code by clicking on the \"Play\" button, it will execute the statements from top to bottom like a normal .py program would."
      ]
    },
    {
      "cell_type": "code",
      "execution_count": null,
      "metadata": {
        "colab": {
          "base_uri": "https://localhost:8080/"
        },
        "id": "VzzmtzmmLsn0",
        "outputId": "9d55afe8-0881-4fd2-b616-3798ae5b4965"
      },
      "outputs": [
        {
          "name": "stdout",
          "output_type": "stream",
          "text": [
            "Mary had a little lamb\n",
            "it's fleece was white as snow;\n",
            "and everywhere that Mary went her lamb was sure to go.\n"
          ]
        }
      ],
      "source": [
        "#A simple program.\n",
        "print(\"Mary had a little lamb\")\n",
        "print(\"it's fleece was white as snow;\")\n",
        "print(\"and everywhere that Mary went\", end = \" \")\n",
        "print(\"her lamb was sure to go.\")"
      ]
    },
    {
      "cell_type": "markdown",
      "metadata": {
        "id": "3YENUBv2Lsn1"
      },
      "source": [
        "However, there is one major distinction between traditional Python programs and Jupyter Notebooks: in a notebook a cell can be run by itself or it can be run as part of a group of cells. Code cells are also not isolated though. A code cell could refer to a variable or function defined in another cell and everything will work fine if the cells are executed in the right sequence. For instance: below we have two code cells, in the first cell we define the  variable \"foo\" and in the second code cell we print the variable \"foo\".\n",
        "\n",
        "Everything will work fine if you execute the first cell and then the second. If you try to execute the second cell without the first one you will receive a NameErroor exception because the second cell does not know what \"foo\" is. Go ahead try it. **Keep this in mind when working with notebooks.**\n",
        "\n"
      ]
    },
    {
      "cell_type": "code",
      "execution_count": null,
      "metadata": {
        "id": "K6WvZ7PoeXrK"
      },
      "outputs": [],
      "source": [
        "foo = \"This is the foo variable and it is a string\""
      ]
    },
    {
      "cell_type": "code",
      "execution_count": null,
      "metadata": {
        "colab": {
          "base_uri": "https://localhost:8080/"
        },
        "id": "ZH6-Kt5zeYaR",
        "outputId": "e3d4f455-1b22-4245-85b3-819764857ddf"
      },
      "outputs": [
        {
          "name": "stdout",
          "output_type": "stream",
          "text": [
            "This is the foo variable and it is a string\n"
          ]
        }
      ],
      "source": [
        "print(foo)"
      ]
    },
    {
      "cell_type": "markdown",
      "metadata": {
        "id": "N0ZqfZm0Lsn1"
      },
      "source": [
        "## 2.2 Variables\n",
        "Now let's start introducing variables. Variables store a value, that can be looked at or changed at a later time. Let's make a program that uses variables:"
      ]
    },
    {
      "cell_type": "code",
      "execution_count": null,
      "metadata": {
        "colab": {
          "base_uri": "https://localhost:8080/"
        },
        "id": "Fv73Xpz2Lsn2",
        "outputId": "d04572e1-e098-4152-e3a9-b3797861fa4e"
      },
      "outputs": [
        {
          "name": "stdout",
          "output_type": "stream",
          "text": [
            "This program is a demo of variables\n",
            "The value of v is now 1\n",
            "v now equals itself plus one, making it worth 2\n",
            "v can store any numerical value, to be used elsewhere.\n",
            "for example, in a sentence. v is now worth 51\n",
            "v times 5 equals 255\n",
            "but v still only remains 51\n",
            "to make v five times bigger, you would have to type v = v * 5\n",
            "there you go, now v equals 255 and not 51.0\n"
          ]
        }
      ],
      "source": [
        "#variables demonstrated\n",
        "print(\"This program is a demo of variables\")\n",
        "v = 1\n",
        "print(\"The value of v is now\", v)\n",
        "v = v + 1\n",
        "print(\"v now equals itself plus one, making it worth\", v)\n",
        "v = 51\n",
        "print(\"v can store any numerical value, to be used elsewhere.\")\n",
        "print(\"for example, in a sentence. v is now worth\", v)\n",
        "print(\"v times 5 equals\", v * 5)\n",
        "print(\"but v still only remains\", v)\n",
        "print(\"to make v five times bigger, you would have to type v = v * 5\")\n",
        "v = v * 5\n",
        "print(\"there you go, now v equals\", v, \"and not\", v / 5)"
      ]
    },
    {
      "cell_type": "markdown",
      "metadata": {
        "id": "cGY2vnkLLsn2"
      },
      "source": [
        "Run the script and try to understand the results."
      ]
    },
    {
      "cell_type": "markdown",
      "metadata": {
        "id": "mOaPES1CLsn3"
      },
      "source": [
        "Note that we can also write `v = v + 1` as `v += 1`. This can be used for all operators (e.g. `-=`, `*=`,`/=`). Try it in the code above.\n",
        "\n",
        "It is good practice to use lowercase or camelCase for variables. Don't use special characters and don't start with a number!"
      ]
    },
    {
      "cell_type": "markdown",
      "metadata": {
        "id": "9HXEZZJFLsn3"
      },
      "source": [
        "## 2.3 Strings\n",
        "As you can see, variables store values, for use at a later time. You can change them at any time. You can put in more than numbers, though. Variables can hold things like text. A variable that holds text is called a string. Try this program:"
      ]
    },
    {
      "cell_type": "code",
      "execution_count": null,
      "metadata": {
        "id": "4YueVAD4Lsn3"
      },
      "outputs": [],
      "source": [
        "#giving variables text, and adding text.\n",
        "word1 = \"Good\"\n",
        "word2 = \"morning\"\n",
        "word3 = \"to you too!\"\n",
        "print(word1, word2)\n",
        "sentence = word1 + \" \" + word2 + \" \" + word3\n",
        "print(sentence)"
      ]
    },
    {
      "cell_type": "markdown",
      "metadata": {
        "id": "3HjjFDfHLsn4"
      },
      "source": [
        "As you see, the variables above were text based. Variable names can have any name like: `word1`, `word2`, and `word3`.\n",
        "\n",
        "As you can also see, strings can be added together to make longer words or sentences. However, when you add two string variables, it will not add spaces in between the words. To add spaces between two words you can use `\" \"` as we did in the example above."
      ]
    },
    {
      "cell_type": "markdown",
      "metadata": {
        "id": "bK5UOAeyB4-7"
      },
      "source": [
        "Try the following code and explain what it does:"
      ]
    },
    {
      "cell_type": "code",
      "execution_count": null,
      "metadata": {
        "colab": {
          "base_uri": "https://localhost:8080/"
        },
        "id": "_FkLJLrRLsn4",
        "outputId": "ac5edfdb-af1c-44df-f778-111f9c87f8dd"
      },
      "outputs": [
        {
          "data": {
            "text/plain": [
              "9"
            ]
          },
          "execution_count": 2,
          "metadata": {},
          "output_type": "execute_result"
        }
      ],
      "source": [
        "text = \"Anyone_AI\"\n",
        "len(text)"
      ]
    },
    {
      "cell_type": "markdown",
      "metadata": {
        "id": "5r168zFoLsn4"
      },
      "source": [
        "Yes, it shows us the amount of characters in a string."
      ]
    },
    {
      "cell_type": "markdown",
      "metadata": {
        "id": "TVsNCGFdCEUW"
      },
      "source": [
        "Now try this:"
      ]
    },
    {
      "cell_type": "code",
      "execution_count": null,
      "metadata": {
        "colab": {
          "base_uri": "https://localhost:8080/"
        },
        "id": "3bN8W7nbLsn5",
        "outputId": "0152342c-6c32-43bf-d66c-d16aa59df8bc"
      },
      "outputs": [
        {
          "name": "stdout",
          "output_type": "stream",
          "text": [
            "n\n"
          ]
        }
      ],
      "source": [
        "print(text[4])"
      ]
    },
    {
      "cell_type": "markdown",
      "metadata": {
        "id": "t5PdpUBrLsn5"
      },
      "source": [
        "Here we wanted to print the character at position 4. Note that the first character \"A\" is at position 0! So position 4 gives us back \"n\"."
      ]
    },
    {
      "cell_type": "markdown",
      "metadata": {
        "id": "M2eVRtkJCBk0"
      },
      "source": [
        "Now try:"
      ]
    },
    {
      "cell_type": "code",
      "execution_count": null,
      "metadata": {
        "colab": {
          "base_uri": "https://localhost:8080/"
        },
        "id": "8snWn2srLsn5",
        "outputId": "936f3d49-9912-49bd-9ff3-a234957991cb"
      },
      "outputs": [
        {
          "name": "stdout",
          "output_type": "stream",
          "text": [
            "Anyo\n"
          ]
        }
      ],
      "source": [
        "print(text[:4])"
      ]
    },
    {
      "cell_type": "code",
      "execution_count": null,
      "metadata": {
        "colab": {
          "base_uri": "https://localhost:8080/"
        },
        "id": "Ah6IJ0IwLsn5",
        "outputId": "788a0228-2459-4b70-c93e-916416ea32f1"
      },
      "outputs": [
        {
          "name": "stdout",
          "output_type": "stream",
          "text": [
            "ne_AI\n"
          ]
        }
      ],
      "source": [
        "print(text[4:])"
      ]
    },
    {
      "cell_type": "markdown",
      "metadata": {
        "id": "ufqrXuN2Lsn5"
      },
      "source": [
        "Here you see that `[:4]` selects characters 0,1,2,3, which is \"Anyo\". With `[4:]` we start with position 4 (counting from 0!) until the end of the string, which results in \"ne_AI\"."
      ]
    },
    {
      "cell_type": "markdown",
      "metadata": {
        "id": "FAGALkOeCgLw"
      },
      "source": [
        "We can also specify a range. Try this:"
      ]
    },
    {
      "cell_type": "code",
      "execution_count": null,
      "metadata": {
        "colab": {
          "base_uri": "https://localhost:8080/"
        },
        "id": "iEpLhrLELsn5",
        "outputId": "0b09f17f-a903-45a1-95f1-85147c01cbbb"
      },
      "outputs": [
        {
          "name": "stdout",
          "output_type": "stream",
          "text": [
            "ne_A\n"
          ]
        }
      ],
      "source": [
        "print(text[4:8])"
      ]
    },
    {
      "cell_type": "markdown",
      "metadata": {
        "id": "sxkwexlpLsn6"
      },
      "source": [
        "Was it what you expected?\n",
        "With ranges, the maximum value is not included in the selection."
      ]
    },
    {
      "cell_type": "markdown",
      "metadata": {
        "id": "YmBMqh4XLsn6"
      },
      "source": [
        "Now try this:"
      ]
    },
    {
      "cell_type": "code",
      "execution_count": null,
      "metadata": {
        "colab": {
          "base_uri": "https://localhost:8080/"
        },
        "id": "gZcM-uLyLsn6",
        "outputId": "dea117db-75bd-4545-d4a9-0ed8dd24e8f1"
      },
      "outputs": [
        {
          "name": "stdout",
          "output_type": "stream",
          "text": [
            "A\n"
          ]
        }
      ],
      "source": [
        "print(text[-2])"
      ]
    },
    {
      "cell_type": "markdown",
      "metadata": {
        "id": "24XmkeCALsn6"
      },
      "source": [
        "What did it do?\n",
        "\n",
        "Right, you have selected the second character from the right (like if you read from righ to left)! Note that here we start counting with -1 for the first character on the right."
      ]
    },
    {
      "cell_type": "markdown",
      "metadata": {
        "id": "35L0y9XkDO0x"
      },
      "source": [
        "Try this:"
      ]
    },
    {
      "cell_type": "code",
      "execution_count": null,
      "metadata": {
        "colab": {
          "base_uri": "https://localhost:8080/"
        },
        "id": "XSV3qQc2Lsn6",
        "outputId": "67a52cbd-2ed6-44a0-d055-b11c1e2ed7bd"
      },
      "outputs": [
        {
          "name": "stdout",
          "output_type": "stream",
          "text": [
            "e_AI\n"
          ]
        }
      ],
      "source": [
        "print(text[-4:])"
      ]
    },
    {
      "cell_type": "markdown",
      "metadata": {
        "id": "9tjAjnRZLsn6"
      },
      "source": [
        "In human language: start with the 4th character from the right and give me all characters from that position to the end of the string."
      ]
    },
    {
      "cell_type": "markdown",
      "metadata": {
        "id": "TOX5zYKxLsn7"
      },
      "source": [
        "You can also add values inside of strings, the {} and .format() function:"
      ]
    },
    {
      "cell_type": "code",
      "execution_count": null,
      "metadata": {
        "colab": {
          "base_uri": "https://localhost:8080/"
        },
        "id": "Wa7sBa1oLsn7",
        "outputId": "ca4b41f8-5a9b-47ad-e9fc-8b22104fa5f7"
      },
      "outputs": [
        {
          "name": "stdout",
          "output_type": "stream",
          "text": [
            "The sentence 'Hello World' has 11 characters\n"
          ]
        }
      ],
      "source": [
        "sentence = \"Hello world\"\n",
        "nrOfCharacters = len(sentence)\n",
        "print(\"The sentence 'Hello World' has {} characters\".format(nrOfCharacters))"
      ]
    },
    {
      "cell_type": "markdown",
      "metadata": {
        "id": "K2nD7A4wLsn7"
      },
      "source": [
        "So you can easily insert variables inside strings using `{}`. The variable will be printed in the place where you have the `{}`, inside the string. The variable has to go inside the parentheses of `.format()`"
      ]
    },
    {
      "cell_type": "markdown",
      "metadata": {
        "id": "vRSjvdFmLsn7"
      },
      "source": [
        "This can also be written as:"
      ]
    },
    {
      "cell_type": "code",
      "execution_count": null,
      "metadata": {
        "id": "C52fFrquLsn7"
      },
      "outputs": [],
      "source": [
        "print(f\"The sentence has {nrOfCharacters} characters\")"
      ]
    },
    {
      "cell_type": "markdown",
      "metadata": {
        "id": "d5GQgM7_Lsn7"
      },
      "source": [
        "There are also other operations that we can apply to strings.\n",
        "We can count the number of occurences of a specific character in a string:"
      ]
    },
    {
      "cell_type": "code",
      "execution_count": null,
      "metadata": {
        "colab": {
          "base_uri": "https://localhost:8080/"
        },
        "id": "UkKJqZa-Lsn7",
        "outputId": "94a86329-f476-4267-be82-618e91ae3015"
      },
      "outputs": [
        {
          "name": "stdout",
          "output_type": "stream",
          "text": [
            "2\n"
          ]
        }
      ],
      "source": [
        "print(sentence.count('o'))"
      ]
    },
    {
      "cell_type": "markdown",
      "metadata": {
        "id": "-U3el4OzHNvf"
      },
      "source": [
        "So, \"Hello World\" has 2 characters 'o'"
      ]
    },
    {
      "cell_type": "markdown",
      "metadata": {
        "id": "fUIGSG12Lsn7"
      },
      "source": [
        "We can also find the position of character:"
      ]
    },
    {
      "cell_type": "code",
      "execution_count": null,
      "metadata": {
        "colab": {
          "base_uri": "https://localhost:8080/"
        },
        "id": "uGwHlS4KLsn8",
        "outputId": "760885e6-2323-4b8e-864b-36aadbd71f96"
      },
      "outputs": [
        {
          "name": "stdout",
          "output_type": "stream",
          "text": [
            "1\n"
          ]
        }
      ],
      "source": [
        "print(sentence.find('e'))"
      ]
    },
    {
      "cell_type": "markdown",
      "metadata": {
        "id": "--6tf6UHHYoy"
      },
      "source": [
        "The character 'e' is in the 2nd position (remember we count 0, 1, 2)"
      ]
    },
    {
      "cell_type": "code",
      "execution_count": null,
      "metadata": {
        "id": "dWYekZP4Lsn8"
      },
      "outputs": [],
      "source": [
        "sometext = \"Hey you, how are you doing?\"\n",
        "print(sometext.rfind(\"you\"))"
      ]
    },
    {
      "cell_type": "markdown",
      "metadata": {
        "id": "AMNvL47GLsn8"
      },
      "source": [
        "`rfind` returns the lasts occurrence of a string. So in `sometext` we have the word \"you\" twice. `rfind` returns `17` meaning that the last time that it found \"you\" is starting at position 17 (counting from 0).\n",
        "\n",
        "There are a few other useful string operations. Run the code below and will be obvious what it does:"
      ]
    },
    {
      "cell_type": "code",
      "execution_count": null,
      "metadata": {
        "id": "Q0Y3djjLLsn8"
      },
      "outputs": [],
      "source": [
        "# Changes the string to upper case\n",
        "print(sometext.upper())\n",
        "\n",
        "# Splits the string on a character and returns it as list items. You'll learn about lists later\n",
        "print(sometext.split(\",\"))\n",
        "\n",
        "# Replaces strings\n",
        "print(sometext.replace(\"?\",\"!\"))"
      ]
    },
    {
      "cell_type": "markdown",
      "metadata": {
        "id": "rK1ZL-7lLsn8"
      },
      "source": [
        "There are also some special characters:\n",
        "\n",
        "`\\n` jumps to a new line\n",
        "\n",
        "`\\` is an escape character. You can put it before another character that has a meaning in the code and is not considered a string. This is often used to have strings with backslashes for file names on Windows (e.g. `\"C:\\\\folder\\\\filename.txt\"`). Because `\\` is already an escape character we need to use it twice to escape the escape character!\n",
        "\n",
        "Examples:"
      ]
    },
    {
      "cell_type": "code",
      "execution_count": null,
      "metadata": {
        "colab": {
          "base_uri": "https://localhost:8080/"
        },
        "id": "T6u8cA_8Lsn8",
        "outputId": "36eb9a5e-8e2d-41c0-9d4c-f9d2aeaaf308"
      },
      "outputs": [
        {
          "name": "stdout",
          "output_type": "stream",
          "text": [
            "This is a very long sentence and I want to split it into two lines.\n",
            "This is a very long sentence\n",
            "and I want to split it into two lines.\n",
            "This sentence contains a quote and I don't want the string to end (yet)\"\n"
          ]
        }
      ],
      "source": [
        "print(\"This is a very long sentence and I want to split it into two lines.\")\n",
        "print(\"This is a very long sentence\\nand I want to split it into two lines.\")\n",
        "\n",
        "print(\"This sentence contains a quote and I don't want the string to end (yet)\\\"\")"
      ]
    },
    {
      "cell_type": "markdown",
      "metadata": {
        "id": "PgUb6vogMKfy"
      },
      "source": [
        "# 3. Loops, Loops, Loops, Loops...\n"
      ]
    },
    {
      "cell_type": "markdown",
      "metadata": {
        "id": "ch-J-u4Hixbd"
      },
      "source": [
        "## 3.1 Introduction\n",
        "This is our final lesson before we get into interacting with human input. Can't wait, can you?\n",
        "\n",
        "Just imagine you needed a program to do something 20 times. What would you do? You could copy and paste the code 20 times, and have an unreadable program, not to mention it will be very slow. Or, you could tell the computer to repeat a chunk of code between point A and point B, until the time comes that you need it to stop. Such a thing is called a loop."
      ]
    },
    {
      "cell_type": "markdown",
      "metadata": {
        "id": "CXyhk3m2iuud"
      },
      "source": [
        "## 3.2 The 'While' loop\n",
        "So let's assume we want to write a simple program that prints numbers from 1 to 10. The following are examples of a type of loop, called the 'while' loop:\n"
      ]
    },
    {
      "cell_type": "code",
      "execution_count": null,
      "metadata": {
        "colab": {
          "base_uri": "https://localhost:8080/"
        },
        "id": "XergbqWSMKfz",
        "outputId": "f2e23382-4c32-49cb-a441-8807157da7b4"
      },
      "outputs": [
        {
          "name": "stdout",
          "output_type": "stream",
          "text": [
            "1\n",
            "2\n",
            "3\n",
            "4\n",
            "5\n",
            "6\n",
            "7\n",
            "8\n",
            "9\n",
            "10\n"
          ]
        }
      ],
      "source": [
        "a = 0\n",
        "while a < 10:\n",
        "    a = a + 1\n",
        "    print(a)"
      ]
    },
    {
      "cell_type": "markdown",
      "metadata": {
        "id": "TKSlMoQRMKf0"
      },
      "source": [
        "How does this program work? Lets go through it in English:\n",
        "```\n",
        "'a' now equals 0\n",
        "As long as 'a' is less than 10, do the following:\n",
        "   (a) Make 'a' one larger than what it already is.\n",
        "   (b) Print on-screen what 'a' is now worth.\n",
        "```"
      ]
    },
    {
      "cell_type": "markdown",
      "metadata": {
        "id": "ohncQExkMKf0"
      },
      "source": [
        "What does this do? Let's go through what the computer would be 'thinking' when it is in the 'while' loop:"
      ]
    },
    {
      "cell_type": "markdown",
      "metadata": {
        "id": "s2RzjkroMKf0"
      },
      "source": [
        "```\n",
        "#JUST GLANCE OVER THIS QUICKLY\n",
        "#(It looks fancy, but is really simple)\n",
        "Is 'a' less than 10? YES (its 0)\n",
        "Make 'a' one larger (now 1)\n",
        "print on-screen what 'a' is (1)\n",
        "\n",
        "Is 'a' less than 10? YES (its 1)\n",
        "Make 'a' one larger (now 2)\n",
        "print on-screen what 'a' is (2)\n",
        "\n",
        "Is 'a' less than 10? YES (its 2)\n",
        "Make 'a' one larger (now 3)\n",
        "print on-screen what 'a' is (3)\n",
        "\n",
        "Is 'a' less than 10? YES (its 3)\n",
        "Make 'a' one larger (now 4)\n",
        "print on-screen what 'a' is (4)\n",
        "\n",
        "Is 'a' less than 10? YES (its 4)\n",
        "Make 'a' one larger (now 5)\n",
        "print on-screen what 'a' is (5)\n",
        "\n",
        "Is 'a' less than 10? YES (its 5)\n",
        "Make 'a' one larger (now 6)\n",
        "print on-screen what 'a' is (6)\n",
        "\n",
        "Is 'a' less than 10? YES (its 6)\n",
        "Make 'a' one larger (now 7)\n",
        "print on-screen what 'a' is (7)\n",
        "\n",
        "Is 'a' less than 10? YES (are you still here?)\n",
        "Make 'a' one larger (now 8)\n",
        "print on-screen what 'a' is (8)\n",
        "\n",
        "Is 'a' less than 10? YES (its 8)\n",
        "Make 'a' one larger (now 9)\n",
        "print on-screen what 'a' is (9)\n",
        "\n",
        "Is 'a' less than 10? YES (its 9)\n",
        "Make 'a' one larger (now 10)\n",
        "print on-screen what 'a' is (10)\n",
        "\n",
        "Is 'a' less than 10? NO (its 10, therefore isn't less than 10)\n",
        "Don't do the loop\n",
        "There's no code left to do, so the program ends\n",
        "```"
      ]
    },
    {
      "cell_type": "markdown",
      "metadata": {
        "id": "MmLxLT2sMKf1"
      },
      "source": [
        "So in short, try to think of it that way when you write 'while' loops. This is how you write them, by the way (syntax):\n",
        "```\n",
        "while {condition that the loop continues}:\n",
        "    {what to do in the loop}\n",
        "    {have it indented, usually four spaces}\n",
        "the code here is not looped\n",
        "because it isn't indented\n",
        "```"
      ]
    },
    {
      "cell_type": "markdown",
      "metadata": {
        "id": "dhwzmSf1MKf1"
      },
      "source": [
        "Now try to understand this example and run to see if it is what you expected."
      ]
    },
    {
      "cell_type": "code",
      "execution_count": null,
      "metadata": {
        "id": "BU5lIjiIMKf2"
      },
      "outputs": [],
      "source": [
        "x = 10\n",
        "while x != 0:\n",
        "    print(x)\n",
        "    x = x - 1\n",
        "    print(\"wow, we've counted x down, and now it equals\", x)\n",
        "print(\"And now the loop has ended.\")"
      ]
    },
    {
      "cell_type": "markdown",
      "metadata": {
        "id": "ml_YS2yVMKf2"
      },
      "source": [
        "## 3.3 Boolean Expressions (Boolean... what!?)\n",
        "What we were using right after the `while` sentence is a variable that is evaluated a boolean expression, meaning the result of it's evaluation can be TRUE or FALSE.<br>\n",
        "What? A boolean expression just means a question that can be answered with a TRUE or FALSE response. For example, if you wanted to say:\n",
        "\n",
        "\n",
        "*   Your age is the same as the person next to you, you would type: `My age == the age of the person next to me` and the statement would be TRUE.\n",
        "*   If you were younger than the person opposite, you'd say: `My age < the age of the person opposite me` and the statement would be TRUE.\n",
        "*   If, however, you were to say the following, and the person opposite of you was younger than you: `My age < the age of the person opposite me`. The statement would be FALSE - the truth is that it is the other way around.\n",
        "\n",
        "This is how a loop thinks - if the expression is true, keep looping (keep executing code). If it is false, don't loop (it basically continues the execution after the while loop).\n",
        "\n",
        "With this in mind, let's have a look at the operators (symbols that represent an action) that are involved in boolean expressions:<br>\n",
        "\n",
        "| Expression | Function  |\n",
        "|   :---:    |   :---:   |\n",
        "|    `<`     | Less than |\n",
        "| `<=` | Less than or equal to |\n",
        "| `>` | Greater than |\n",
        "| `>=` | Greater than or equal to |\n",
        "| `!=` | Not equal to |\n",
        "| `<>` | Not equal to (alternate) |\n",
        "| `==` | Equal to |\n",
        "\n",
        "Don't confuse `=` and `==`.\n",
        "\n",
        "*   The `=` operator will make what is on the left equal to what is on the right.\n",
        "*   The `==` operator says whether the thing on the left is the same as what is on the right, and returns True or False.\n",
        "\n",
        "\n"
      ]
    },
    {
      "cell_type": "markdown",
      "metadata": {
        "id": "ZRn0RaLaMKf2"
      },
      "source": [
        "## 3.4 Conditional Statements\n",
        "OK! We've (hopefully) covered 'while' loops. Now let's look at something a little different - conditionals.<br>\n",
        "Conditionals are where a section of code is only run if certain conditions are met. This is similar to the 'while' loop you just wrote, which only runs when x doesn't equal 0. However, Conditionals are only run once. The most common conditional in any program language, is the 'if' statement. Here is how it works:<br>\n",
        "```\n",
        "if {conditions to be met}:\n",
        "    {do this}\n",
        "    {and this}\n",
        "    {and this}\n",
        "{but this happens regardless}\n",
        "{because it isn't indented}\n",
        "```\n",
        "<br>\n",
        "Now some examples in Python:"
      ]
    },
    {
      "cell_type": "code",
      "execution_count": null,
      "metadata": {
        "id": "408w3_r-MKf3"
      },
      "outputs": [],
      "source": [
        "#EXAMPLE 1\n",
        "y = 1\n",
        "if y == 1:\n",
        "    print(\"y still equals 1, I was just checking\")"
      ]
    },
    {
      "cell_type": "markdown",
      "metadata": {
        "id": "3jkOrWEoemN-"
      },
      "source": [
        "The following example (Example 2) is tricky. The code evaluates the if statement every time the while loop runs (so 20 times). Inside the if statement, we are using the operator % (which if you remember, it returns the remainder from a division). So this if statement is checking that when we do a division by 2, there is nothing left over (for spanish speakers, si el resto de la division entera es 0, imprime n), e.g: <br>\n",
        "1/2 = 0.5 -> prints nothing (as the if statement is FALSE)<br>\n",
        "2/2 =   1 -> prints 2<br>\n",
        "3/2 = 1.5 -> prints nothing (as the if statement is FALSE)<br>\n",
        "4/2 =   2 -> prints 4 <br>\n",
        "...<br>\n",
        "As you can see, another conclusion of this exercise is that we are printing even numbers, and not the odd ones. If it is even, it prints what n is. Interesting, right?"
      ]
    },
    {
      "cell_type": "code",
      "execution_count": null,
      "metadata": {
        "colab": {
          "base_uri": "https://localhost:8080/"
        },
        "id": "k1XieOzOMKf3",
        "outputId": "01cda37b-d22c-4454-e682-6349e4dd95a6"
      },
      "outputs": [
        {
          "name": "stdout",
          "output_type": "stream",
          "text": [
            "We will show the even numbers up to 20\n",
            "2\n",
            "4\n",
            "6\n",
            "8\n",
            "10\n",
            "12\n",
            "14\n",
            "16\n",
            "18\n",
            "20\n",
            "there, done.\n"
          ]
        }
      ],
      "source": [
        "#EXAMPLE 2\n",
        "print(\"We will show the even numbers up to 20\")\n",
        "n = 1\n",
        "while n <= 20:\n",
        "    if n % 2 == 0:\n",
        "        print(n)\n",
        "    n = n + 1\n",
        "print(\"there, done.\")"
      ]
    },
    {
      "cell_type": "markdown",
      "metadata": {
        "id": "rXcIAqP4MKf3"
      },
      "source": [
        "## 3.5 `else` and `elif` - When it isn't True\n",
        "There are many ways you can use the `if` statement to deal with situations where your boolean expression is FALSE. They are `else` and `elif`.<br>\n",
        "`else` simply tells the computer what to do if the conditions of `if` aren't met. For example, read the following:"
      ]
    },
    {
      "cell_type": "code",
      "execution_count": null,
      "metadata": {
        "id": "qxrQ1v2YMKf3"
      },
      "outputs": [],
      "source": [
        "a = 1\n",
        "if a > 5:\n",
        "    print(\"This shouldn't happen.\")\n",
        "else:\n",
        "    print(\"This should happen.\")"
      ]
    },
    {
      "cell_type": "markdown",
      "metadata": {
        "id": "UJwdLXmaMKf4"
      },
      "source": [
        "`a` is not greater than five, therefore what is under `else` is done.\n",
        "\n",
        "`elif` is just a shortened way of saying `else if`. When the `if` statement fails to be true, `elif` will do what is under it IF the conditions are met. For example:"
      ]
    },
    {
      "cell_type": "code",
      "execution_count": null,
      "metadata": {
        "id": "TtuM65gLMKf4"
      },
      "outputs": [],
      "source": [
        "z = 4\n",
        "if z > 70:\n",
        "    print(\"Something is very wrong\")\n",
        "elif z < 7:\n",
        "    print(\"This is normal\")"
      ]
    },
    {
      "cell_type": "markdown",
      "metadata": {
        "id": "zXuBJDNbMKf4"
      },
      "source": [
        "The `if` statement, along with `else` and `elif` follow this form:\n",
        "```Python\n",
        "if {conditions}:\n",
        "    {run this code}\n",
        "elif {conditions}:\n",
        "    {run this code}\n",
        "elif {conditions}:\n",
        "    {run this code}\n",
        "else:\n",
        "    {run this code}\n",
        "#You can have as many or as little elif statements as you need\n",
        "#anywhere from zero to the sky.\n",
        "#You can have at most one else statement\n",
        "#and only after all other ifs and elifs.\n",
        "```"
      ]
    },
    {
      "cell_type": "markdown",
      "metadata": {
        "id": "wE3Ljs9iMKf4"
      },
      "source": [
        "***One of the most important syntax rules to remember is that you MUST have a colon `:` at the end of every line with an `if`, `elif`, `else` or `while` in it.***"
      ]
    },
    {
      "cell_type": "markdown",
      "metadata": {
        "id": "tUt7n8NoMKf4"
      },
      "source": [
        "## 3.6 Indentation\n",
        "Another important syntax rule to remember is that the code to be executed if the conditions are met, MUST BE INDENTED. That means that if you want to loop the next five lines with a `while` loop, you must put a set number of spaces at the beginning of each of the next five lines. This is good programming practice in any language, but Python requires that you do it. Here is an example of both of the above points:"
      ]
    },
    {
      "cell_type": "code",
      "execution_count": null,
      "metadata": {
        "id": "nocWhmuhMKf5"
      },
      "outputs": [],
      "source": [
        "a = 10\n",
        "while a > 0:\n",
        "    print(a)\n",
        "    if a > 5:\n",
        "        print(\"Big number!\")\n",
        "    elif a % 2 != 0:\n",
        "        print(\"This is an odd number\")\n",
        "        print(\"It isn't greater than five, either\")\n",
        "    else:\n",
        "        print(\"this number isn't greater than 5\")\n",
        "        print(\"nor is it odd\")\n",
        "        print(\"feeling special?\")\n",
        "    a = a - 1\n",
        "    print(\"we just made 'a' one less than what it was!\")\n",
        "    print(\"and unless a is not greater than 0, we'll do the loop again.\")\n",
        "print(\"well, it seems as if 'a' is now no bigger than 0!\")\n",
        "print(\"the loop is now over, and without furthur adue, so is this program!\")"
      ]
    },
    {
      "cell_type": "markdown",
      "metadata": {
        "id": "n0RlK7bxMKf5"
      },
      "source": [
        "Notice the three levels of indents there:\n",
        "1.\tEach line in the first level starts with no spaces. It is the main program, and will always execute.\n",
        "2.\tEach line in the second level starts with four spaces. When there is an `if` or loop on the first level, everything on the second level after that will be looped/'ifed', until a new line starts back on the first level again.\n",
        "3.\tEach line in the third level starts with eight spaces. When there is an `if` or loop on the second level, everything on the third level after that will be looped/'ifed', until a new line starts back on the second level again.\n",
        "4.\tThis goes on infinitely, until the person writing the program has an internal brain explosion, and cannot understand anything he/she has written."
      ]
    },
    {
      "cell_type": "markdown",
      "metadata": {
        "id": "H19K5Y-jMKf5"
      },
      "source": [
        "There is another loop, called the 'for' loop, but we will cover that in a later lesson, after we have learnt about lists.\n"
      ]
    },
    {
      "cell_type": "markdown",
      "metadata": {
        "id": "RuwPAFGGMSx1"
      },
      "source": [
        "# 4. Functions\n"
      ]
    },
    {
      "cell_type": "markdown",
      "metadata": {
        "id": "hncX6zZEipke"
      },
      "source": [
        "## 4.1 Introduction\n",
        "In the last lesson we said that we would introduce to you some purposeful programming. That involves user input, and user input requires a thing called ***functions***.\n",
        "\n",
        "What are functions? Well, in effect, functions are little self-contained programs that perform a specific task, which you can incorporate into your own, larger programs. After you have created a function, you can use it at any time (by calling it), in any place. This saves you the time and effort of having to re-write repeatable portions of code to do a common task every time.\n"
      ]
    },
    {
      "cell_type": "markdown",
      "metadata": {
        "id": "06CfddxfiiQn"
      },
      "source": [
        "## 4.2 Using a Function\n",
        "Python has lots of pre-made functions, that you can use right now, simply by 'calling' them. 'Calling' a function involves you giving a function input, and it will return a value (like a variable would) as output. Don't understand? Here is the general form that calling a function takes:<br>\n",
        "`returned values = function_name(input parameters)`\n",
        "\n",
        "- `function_name` is the name that you can use to identify  your function.\n",
        "- `Parameters` are the values you pass to the function to use inside. For example, let's say you've made a new function which essentially performs a multiplication of any value `X` by 5. The value `X` you pass in the parameters will tell the function which number it should multiply by five. Now let's say you put the number `X=70` into parameters, so the function will compute `70 * 5`.\n"
      ]
    },
    {
      "cell_type": "markdown",
      "metadata": {
        "id": "KPrHwEl6MSx1"
      },
      "source": [
        "## 4.3 Parameters and Returned Values. Communicating with Functions\n",
        "Well, that's all well and good that the program can multiply a number by five, but your program will need to see the result of what the function did, to get the result. So how does the function shows its result?\n",
        "\n",
        "Well, in fact, when a computer runs a function, it doesn't see the function name as we do, but the computer sees the result of what the function did. Variables do the exact same thing - the computer doesn't see the variable name, it sees the value that the variable holds.\n",
        "\n",
        "So let's now build our function that multiplied any number `X` by five, let's call the function `multiply()`.\n",
        "\n",
        "Now, you put the value `X` you want to multiply in the brackets (the parameter of the function). So if you typed this:\n",
        "\n",
        "`a = multiply(70)`\n",
        "\n",
        "The computer would actually get as a result this:\n",
        "\n",
        "`a = 350`\n",
        "\n",
        "The function ran itself, then returned a number to the main program, based on what parameters it was given."
      ]
    },
    {
      "cell_type": "markdown",
      "metadata": {
        "id": "pGFbALxHVQhP"
      },
      "source": [
        "Note: the function `multiply()` is called above, but it isn't a real function yet, we have to create it."
      ]
    },
    {
      "cell_type": "code",
      "execution_count": null,
      "metadata": {
        "colab": {
          "base_uri": "https://localhost:8080/"
        },
        "id": "T-_De0S0VZPX",
        "outputId": "ae8bf288-d03a-455b-aa27-6b732d1a40bc"
      },
      "outputs": [
        {
          "name": "stdout",
          "output_type": "stream",
          "text": [
            "350\n"
          ]
        }
      ],
      "source": [
        "# Below is the multiply function implementation\n",
        "def multiply(X):\n",
        "    aux = 5*X\n",
        "    return aux\n",
        "\n",
        "# And here is the function being called with an input parameter 70\n",
        "a = multiply(70)\n",
        "print(a)"
      ]
    },
    {
      "cell_type": "markdown",
      "metadata": {
        "id": "OBxdsBzdMSx3"
      },
      "source": [
        "## 4.4 Making A Calculator Program\n",
        "Let's write another program, that will act as a calculator. This time it will do something more adventurous than what we have done before. There will be a menu, that will ask you whether you want to multiply two numbers together, add two numbers together, divide one number by another, or subtract one number from another.\n",
        "\n",
        "To start, we will use a pre-defined function from Python called `input`. The function asks the user to type in something. It then turns it into a string of text. Try the code below and see what it does:"
      ]
    },
    {
      "cell_type": "code",
      "execution_count": null,
      "metadata": {
        "colab": {
          "base_uri": "https://localhost:8080/"
        },
        "id": "PkK8TowhMSx2",
        "outputId": "0ffc773a-ff77-4c12-9cd7-ebdab6ef3023"
      },
      "outputs": [
        {
          "name": "stdout",
          "output_type": "stream",
          "text": [
            "Type in something, and it will be repeated on screen: 1\n",
            "1\n"
          ]
        }
      ],
      "source": [
        "# this line makes 'a' equal to whatever you type in\n",
        "a = input(\"Type in something, and it will be repeated on screen: \")\n",
        "# this line prints what 'a' is now worth\n",
        "print(a)"
      ]
    },
    {
      "cell_type": "markdown",
      "metadata": {
        "id": "VP4KBuWGXGrq"
      },
      "source": [
        "Now, we have to create a function that will analyze the input the user introduces, and depending on each option 1, 2, 3, or 4 it will execute a portion of code for the different operations of the calculator, e.g Option 1 is `add`, option 2 is `subtract`, etc.\n"
      ]
    },
    {
      "cell_type": "markdown",
      "metadata": {
        "id": "5LoSg7PLZcoZ"
      },
      "source": [
        "There is only one problem though. The `input` function returns what you type in as a string, and we want the number 1, not the letter 1.\n",
        "\n",
        "Luckily, somebody wrote a function called `eval`, which returns what you typed in, to the main program, in the format that you introduced it, e.g if you enter a number it will be interpreted as a number (integer) and not text (string).\n",
        "\n"
      ]
    },
    {
      "cell_type": "code",
      "execution_count": null,
      "metadata": {
        "colab": {
          "base_uri": "https://localhost:8080/"
        },
        "id": "kmZwjlnwMSx4",
        "outputId": "88fdcb63-6015-42c4-9ef1-ec281f22c9c5"
      },
      "outputs": [
        {
          "name": "stdout",
          "output_type": "stream",
          "text": [
            "Type in something, and it will be repeated on screen: 1\n",
            "1\n"
          ]
        }
      ],
      "source": [
        "# this line makes 'a' equal to the value that you type. It doesn't accept strings\n",
        "a = eval(input(\"Type in something, and it will be repeated on screen: \"))\n",
        "# this line prints what 'a' is now worth\n",
        "print(a)"
      ]
    },
    {
      "cell_type": "markdown",
      "metadata": {
        "id": "xdsIFFBsMSx4"
      },
      "source": [
        "Now, let's design this calculator properly! We want a menu that is shown to the user every time you finish an operation (add, subtract, etc). In other words, for the program to run continuously, you have to loop while asking the user to introduce an option.\n",
        "Once the user introduces an option, we want the program to execute a portion of code that will execute the operation the user selected. That involves the user typing in an option (e.g Option 1 - add), so the fist `if` will return TRUE, meaning the code inside will be executed. In the `if`, the program will ask the user to introduce a number (a.k.a. input 1) and another number (a.k.a. input 1), and then it will perform the `add` operation. Then, it will return to the first line of the while loop waiting for another option the user can enter.<br>\n",
        "Let's write it out in understandable English first (pseudocode):\n",
        "\n",
        "```\n",
        "START PROGRAM\n",
        "print opening message\n",
        "\n",
        "while we let the program run, do this:\n",
        "    #Print what options you have\n",
        "    print Option 1 - add\n",
        "    print Option 2 - subtract\n",
        "    print Option 3 - multiply\n",
        "    print Option 4 - divide\n",
        "    print Option 5 - quit program\n",
        "\n",
        "    ask for which option it is you want\n",
        "    if it is option 1:\n",
        "        ask for first number\n",
        "        ask for second number\n",
        "        add them together\n",
        "        print the result onscreen\n",
        "    if it is option 2:\n",
        "        ask for first number\n",
        "        ask for second number\n",
        "        subtract one from the other\n",
        "        print the result onscreen\n",
        "    if it is option 3:\n",
        "        ask for first number\n",
        "        ask for second number\n",
        "        multiply!\n",
        "        print the result onscreen\n",
        "    if it is option 4:\n",
        "        ask for first number\n",
        "        ask for second number\n",
        "        divide one by the other\n",
        "        print the result onscreen\n",
        "    if it is option 5:\n",
        "        tell the loop to stop looping\n",
        "Print onscreen a goodbye message\n",
        "END PROGRAM\n",
        "```\n",
        "Let's put this in something that Python can understand:"
      ]
    },
    {
      "cell_type": "code",
      "execution_count": null,
      "metadata": {
        "colab": {
          "base_uri": "https://localhost:8080/",
          "height": 670
        },
        "id": "WlS62hX2MSx5",
        "outputId": "3aeb0fb9-bb99-4d87-fc7d-61c9717f601e"
      },
      "outputs": [
        {
          "name": "stdout",
          "output_type": "stream",
          "text": [
            "Welcome to calculator.py\n",
            "your options are:\n",
            " \n",
            "1. Addition\n",
            "2. Subtraction\n",
            "3. Multiplication\n",
            "4. Division\n",
            "5. Quit calculator.py\n",
            " \n",
            "Choose your option: 1\n",
            "Add this: 1\n",
            "to this: 1\n",
            "1 + 1 = 2\n",
            "Welcome to calculator.py\n",
            "your options are:\n",
            " \n",
            "1. Addition\n",
            "2. Subtraction\n",
            "3. Multiplication\n",
            "4. Division\n",
            "5. Quit calculator.py\n",
            " \n",
            "Choose your option: aaa\n"
          ]
        },
        {
          "ename": "NameError",
          "evalue": "ignored",
          "output_type": "error",
          "traceback": [
            "\u001b[0;31m---------------------------------------------------------------------------\u001b[0m",
            "\u001b[0;31mNameError\u001b[0m                                 Traceback (most recent call last)",
            "\u001b[0;32m<ipython-input-5-9ee952af5cc7>\u001b[0m in \u001b[0;36m<module>\u001b[0;34m()\u001b[0m\n\u001b[1;32m     23\u001b[0m     \u001b[0mprint\u001b[0m\u001b[0;34m(\u001b[0m\u001b[0;34m\" \"\u001b[0m\u001b[0;34m)\u001b[0m\u001b[0;34m\u001b[0m\u001b[0;34m\u001b[0m\u001b[0m\n\u001b[1;32m     24\u001b[0m \u001b[0;34m\u001b[0m\u001b[0m\n\u001b[0;32m---> 25\u001b[0;31m     \u001b[0mchoice\u001b[0m \u001b[0;34m=\u001b[0m \u001b[0meval\u001b[0m\u001b[0;34m(\u001b[0m\u001b[0minput\u001b[0m\u001b[0;34m(\u001b[0m\u001b[0;34m\"Choose your option: \"\u001b[0m\u001b[0;34m)\u001b[0m\u001b[0;34m)\u001b[0m\u001b[0;34m\u001b[0m\u001b[0;34m\u001b[0m\u001b[0m\n\u001b[0m\u001b[1;32m     26\u001b[0m     \u001b[0;32mif\u001b[0m \u001b[0mchoice\u001b[0m \u001b[0;34m==\u001b[0m \u001b[0;36m1\u001b[0m\u001b[0;34m:\u001b[0m\u001b[0;34m\u001b[0m\u001b[0;34m\u001b[0m\u001b[0m\n\u001b[1;32m     27\u001b[0m         \u001b[0madd1\u001b[0m \u001b[0;34m=\u001b[0m \u001b[0meval\u001b[0m\u001b[0;34m(\u001b[0m\u001b[0minput\u001b[0m\u001b[0;34m(\u001b[0m\u001b[0;34m\"Add this: \"\u001b[0m\u001b[0;34m)\u001b[0m\u001b[0;34m)\u001b[0m\u001b[0;34m\u001b[0m\u001b[0;34m\u001b[0m\u001b[0m\n",
            "\u001b[0;32m<string>\u001b[0m in \u001b[0;36m<module>\u001b[0;34m()\u001b[0m\n",
            "\u001b[0;31mNameError\u001b[0m: name 'aaa' is not defined"
          ]
        }
      ],
      "source": [
        "#calculator program\n",
        "\n",
        "#this variable tells the loop whether it should loop or not.\n",
        "#1 means loop. Anything else means don't loop.\n",
        "\n",
        "loop = 1\n",
        "\n",
        "#this variable holds the user's choice in the menu:\n",
        "\n",
        "choice = 0\n",
        "\n",
        "while loop == 1:\n",
        "    #print what options you have\n",
        "    print(\"Welcome to calculator.py\")\n",
        "\n",
        "    print(\"your options are:\")\n",
        "    print(\" \")\n",
        "    print(\"1. Addition\")\n",
        "    print(\"2. Subtraction\")\n",
        "    print(\"3. Multiplication\")\n",
        "    print(\"4. Division\")\n",
        "    print(\"5. Quit calculator.py\")\n",
        "    print(\" \")\n",
        "\n",
        "    choice = eval(input(\"Choose your option: \"))\n",
        "    if choice == 1:\n",
        "        add1 = eval(input(\"Add this: \"))\n",
        "        add2 = eval(input(\"to this: \"))\n",
        "        print(add1, \"+\", add2, \"=\", add1 + add2)\n",
        "    elif choice == 2:\n",
        "        sub2 = eval(input(\"Subtract this: \"))\n",
        "        sub1 = eval(input(\"from this: \"))\n",
        "        print(sub1, \"-\", sub2, \"=\", sub1 - sub2)\n",
        "    elif choice == 3:\n",
        "        mul1 = eval(input(\"Multiply this: \"))\n",
        "        mul2 = eval(input(\"with this: \"))\n",
        "        print(mul1, \"*\", mul2, \"=\", mul1 * mul2)\n",
        "    elif choice == 4:\n",
        "        div1 = eval(input(\"Divide this: \"))\n",
        "        div2 = eval(input(\"by this: \"))\n",
        "        print(div1, \"/\", div2, \"=\", div1 / div2)\n",
        "    elif choice == 5:\n",
        "        loop = 0\n",
        "\n",
        "print(\"Thank you for using calculator.py!\")"
      ]
    },
    {
      "cell_type": "markdown",
      "metadata": {
        "id": "EsHVlgBLMSx5"
      },
      "source": [
        "Play around with it - try all options, entering in integers (numbers without decimal points), and numbers with stuff after the decimal point (known in programming as a floating point). Try typing in text, and see how the program gets an error, and stops running (that can be dealt with, using error handling, which we can address later)."
      ]
    },
    {
      "cell_type": "markdown",
      "metadata": {
        "id": "7vh5An8tMSx5"
      },
      "source": [
        "## 4.5 Define Your Own Functions\n",
        "Well, it is all well and good that you can use other people's functions, but what if you want to write your own functions? This is where the `def` operator comes in. (An operator is just something that tells Python what to do, e.g. the `+` operator tells Python to add things, the `if` operator tells Python to do something if conditions are met, the `def` operator tells Python to define a function)\n",
        "\n",
        "This is how the `def` operator works:\n",
        "\n",
        "```\n",
        "def function_name(parameter_1,parameter_2):\n",
        "    {this is the code in the function}\n",
        "    {more code}\n",
        "    {more code}\n",
        "    return {value to return to the main program}\n",
        "{this code isn't in the function, because it isn't indented}\n",
        "#remember to put a colon \":\" at the end of the line that starts with 'def'\n",
        "```\n"
      ]
    },
    {
      "cell_type": "markdown",
      "metadata": {
        "id": "K742R7yhMSx6"
      },
      "source": [
        "`function_name` is the name of the function. You write the code that is in the function below that line, and have it indented. (We will worry about `parameter_1` and `parameter_2` later, for now imagine there is nothing between the parentheses).\n",
        "\n",
        "Functions run completely independent of the main program. When the computer comes to a function, it doesn't see the function, but instead it sees a value which is what the function returns. Similar to variables, to the computer, the variable 'a' doesn't look like 'a' - it looks like the value that is stored inside it. Functions works the same way, to the main program (that is, the program that is running the function), they look like the value of what they give in return of running that portion of code."
      ]
    },
    {
      "cell_type": "markdown",
      "metadata": {
        "id": "OXv_JzH3MSx6"
      },
      "source": [
        "A function is like a miniature program that some parameters are given to - it then runs itself, and then returns a value. Your main program sees only the returned value. Because it is a separate program, a function doesn't see any of the variables that are in your main program, and your main program doesn't see any of the variables that are in a function. For example, here is a function that prints the words `\"hello\"` on screen, and then returns the number `'1234'` to the main program:"
      ]
    },
    {
      "cell_type": "code",
      "execution_count": null,
      "metadata": {
        "id": "7mwkI44WMSx6"
      },
      "outputs": [],
      "source": [
        "# Below is the function\n",
        "def hello():\n",
        "    print(\"hello\")\n",
        "    return 1234\n",
        "\n",
        "# And here is the function being used\n",
        "result = hello()\n",
        "print(result)"
      ]
    },
    {
      "cell_type": "markdown",
      "metadata": {
        "id": "C91lN8F1MSx6"
      },
      "source": [
        "So what happened?\n",
        "1.\twhen `def hello()` was run, a function called `hello` was created\n",
        "2.\tWhen the line `print(hello())` was run, the function `hello` was executed (The code inside it was run)\n",
        "3.\tThe function `hello` printed `\"hello\"` on screen, then returned the number `1234` back to the main program\n",
        "4.\tThe main program now sees the line as `print(\"1234\")` and as a result, printed `1234`"
      ]
    },
    {
      "cell_type": "markdown",
      "metadata": {
        "id": "XvkoRKqlMSx7"
      },
      "source": [
        "That accounts for everything that happened. Remember, that the main program had NO IDEA that the words `hello` were printed on screen. All it saw was `1234`, and printed that on screen."
      ]
    },
    {
      "cell_type": "markdown",
      "metadata": {
        "id": "B-1DLVecMSx7"
      },
      "source": [
        "## 4.6 Passing Parameters to functions\n",
        "There is one more thing we will cover in this lesson - passing parameters to a function. Think back to how we defined functions:<br>\n",
        "```\n",
        "def function_name(parameter_1,parameter_2):\n",
        "    {this is the code in the function}\n",
        "    {more code}\n",
        "    {more code}\n",
        "    return {value (e.g. text or number) to return to the main program}\n",
        "```\n",
        "\n",
        "Where `parameter_1` and `parameter_2` are (between the parentheses), you put the names of variables that you want to put the parameters into. You can have as many variables as you need, just have them separated by commas. When you run a function, the first value you put inside the parentheses would go into the variable where `parameter_1` is. The second one (after the first comma) would go to the variable where `parameter_2` is. This goes on for however many parameters there are in the function (from zero, to the sky). For example:"
      ]
    },
    {
      "cell_type": "code",
      "execution_count": null,
      "metadata": {
        "id": "ZyMgQ_6LMSx7"
      },
      "outputs": [],
      "source": [
        "def funnyfunction(first_word, second_word, third_word):\n",
        "    print(\"The word created is: \" + first_word + second_word + third_word)\n",
        "    return first_word + second_word + third_word"
      ]
    },
    {
      "cell_type": "markdown",
      "metadata": {
        "id": "AlqO_aILMSx7"
      },
      "source": [
        "When you run the function above, you would type in something like this: `funnyfunction(\"meat\",\"eater\",\"man\")`. The first value (that is, \"meat\") would be put into the variable called first_word. The second value inside the brackets (that is, \"eater\") would be put into the variable called second_word, and so on. This is how values are passed from the main program to functions - inside the parentheses, after the function name."
      ]
    },
    {
      "cell_type": "markdown",
      "metadata": {
        "id": "GUtZ4hIuMSx7"
      },
      "source": [
        "## 4.7 A Final Program\n",
        "Think back to that calculator program. Did it look a bit complicated to you? I think it did, so let's re-write it, now using functions.\n",
        "\n",
        "To design - First we will define all the functions we are going to use with the `def` operator. Then we will have the main program, with all that messy code replaced with nice, neat functions. This will make it so much easier to look at again in the future."
      ]
    },
    {
      "cell_type": "code",
      "execution_count": null,
      "metadata": {
        "id": "Hu0y1dvzMSx7"
      },
      "outputs": [],
      "source": [
        "# Calculator program\n",
        "\n",
        "# Here we will define our functions\n",
        "# this prints the main menu, and prompts for a choice\n",
        "def menu():\n",
        "    #print what options you have\n",
        "    print(\"Welcome to calculator.py\")\n",
        "    print(\"your options are:\")\n",
        "    print(\" \")\n",
        "    print(\"1. Addition\")\n",
        "    print(\"2. Subtraction\")\n",
        "    print(\"3. Multiplication\")\n",
        "    print(\"4. Division\")\n",
        "    print(\"5. Quit calculator.py\")\n",
        "    print(\" \")\n",
        "    return eval(input(\"Choose your option: \"))\n",
        "\n",
        "# this adds two numbers given\n",
        "def add(a,b):\n",
        "    print(a, \"+\", b, \"=\", a + b)\n",
        "\n",
        "# this subtracts two numbers given\n",
        "def sub(a,b):\n",
        "    print(b, \"-\", a, \"=\", b - a)\n",
        "\n",
        "# this multiplies two numbers given\n",
        "def mul(a,b):\n",
        "    print(a, \"*\", b, \"=\", a * b)\n",
        "\n",
        "# this divides two numbers given\n",
        "def div(a,b):\n",
        "    print(a, \"/\", b, \"=\", a / b)\n",
        "\n",
        "# PROGRAM REALLY STARTS HERE, AS CODE IS RUN\n",
        "loop = 1\n",
        "choice = 0\n",
        "while loop == 1:\n",
        "    choice = menu()\n",
        "    if choice == 1:\n",
        "        add(eval(input(\"Add this: \")),eval(input(\"to this: \")))\n",
        "    elif choice == 2:\n",
        "        sub(eval(input(\"Subtract this: \")),eval(input(\"from this: \")))\n",
        "    elif choice == 3:\n",
        "        mul(eval(input(\"Multiply this: \")),eval(input(\"by this: \")))\n",
        "    elif choice == 4:\n",
        "        div(eval(input(\"Divide this: \")),eval(input(\"by this: \")))\n",
        "    elif choice == 5:\n",
        "        loop = 0\n",
        "\n",
        "print(\"Thank you for using calculator.py!\")\n",
        "\n",
        "# NOW THE PROGRAM REALLY FINISHES"
      ]
    },
    {
      "cell_type": "markdown",
      "metadata": {
        "id": "a6s4ZbNIMSx8"
      },
      "source": [
        "The initial program had 34 lines of code. The new one actually had 35 lines of code! It is a little longer, but if you look at it the right way, it is actually simpler.\n",
        "\n",
        "You defined all your functions at the top. This really isn't part of your main program - they are just lots of little programs that you will call upon later. You could even re-use these in another program if you needed them, and didn't want to tell the computer how to add and subtract again.\n",
        "\n",
        "If you look at the main part of the program (between the line `loop = 1` and `print(\"Thank you for...\")`), it is only 15 lines of code. That means that if you wanted to write this program differently, you would only have to write 15 or so lines, as opposed to the 34 lines you would normally have to without functions."
      ]
    },
    {
      "cell_type": "markdown",
      "metadata": {
        "id": "ISINbGemMZCB"
      },
      "source": [
        "# 5.\tTuples, Lists, and Dictionaries"
      ]
    },
    {
      "cell_type": "markdown",
      "metadata": {
        "id": "PNftDWyLi6OQ"
      },
      "source": [
        "## 5.1\tIntroduction\n",
        "Your brain still hurting from the last lesson? Never worry, this one will require a little less thought. We're going back to something simple - variables - but a little more in depth.\n",
        "\n",
        "Variables are great at what they do - storing a piece of data that may change over time.\n",
        "\n",
        "But what if you need to store a long list of information, which doesn't change over time? Say, for example, the names of the months of the year. Or maybe a long list of information that does change over time? Say, for example, the names of all your cats. You might get new cats, some may die one day. What about a phone book? For that you need to do a bit of referencing - you would have a list of names, and attached to each of those names, a phone number. How would you do that? Here's where lists, tuples and dictionaries come handy."
      ]
    },
    {
      "cell_type": "markdown",
      "metadata": {
        "id": "OJetD8E6MZCC"
      },
      "source": [
        "## 5.2\tThe Solution - Lists, Tuples, and Dictionaries\n",
        "For these three problems, Python uses three different solutions - Tuples, Lists, and Dictionaries:\n",
        "* **Lists** are what they seem - a list of values. You can remove values from the list, and add new values to the end. Each one of the values is numbered, starting from zero - the first one is numbered zero, the second 1, the third 2, etc. Example: Your many cats' names.\n",
        "* **Tuples** are just like lists, but you can't change their values. The values that you give it first, are the values that stay for the rest of the program. Again, each value is numbered starting from zero, for easy reference. Example: the names of the months of the year.\n",
        "* **Dictionaries** are similar to what their name suggests - a dictionary. In a dictionary, you have an 'index' of words, and for each of them a definition. In Python, the word is called a 'key', and the definition a 'value'. The values in a dictionary aren't numbered - they aren't in any specific order, either - the key does the same thing. You can add, remove, and modify the values in dictionaries. Example: telephone book."
      ]
    },
    {
      "cell_type": "markdown",
      "metadata": {
        "id": "WnJAqQeDMZCC"
      },
      "source": [
        "### 5.2.1 Tuples\n",
        "Tuples are pretty easy to make. You give your tuple a name, then after that the list of values it will carry. For example, the months of the year:"
      ]
    },
    {
      "cell_type": "code",
      "execution_count": null,
      "metadata": {
        "id": "DKxXtKF9MZCD"
      },
      "outputs": [],
      "source": [
        "months = ('January','February','March','April','May','June',\\\n",
        "'July','August','September','October','November','  December')"
      ]
    },
    {
      "cell_type": "markdown",
      "metadata": {
        "id": "b7K9nR8bMZCD"
      },
      "source": [
        "* Note that the `\\` thing at the end of the first line carries over that line of code to the next line. It is useful way of making big lines more readable.\n",
        "* You may have spaces after the commas if you feel it necessary - it doesn't really matter"
      ]
    },
    {
      "cell_type": "markdown",
      "metadata": {
        "id": "mD5OeGqYMZCE"
      },
      "source": [
        "Python then organizes those values in a handy, numbered index - starting from zero, in the order that you entered them in. It would be organized like this:<br>\n",
        "\n",
        "| Index | Value |\n",
        "| :---: | :---: |\n",
        "| 0 | January |\n",
        "| 1 | February |\n",
        "| 2 | March |\n",
        "| 3 | April |\n",
        "| 4 | May |\n",
        "| 5 | June |\n",
        "| 6 | July |\n",
        "| 7 | August |\n",
        "| 8 | September |\n",
        "| 9 | October |\n",
        "| 10 | November |\n",
        "| 11 | December |\n"
      ]
    },
    {
      "cell_type": "markdown",
      "metadata": {
        "id": "tM073ORtSaV7"
      },
      "source": [
        "You can recall values from tuples like in the example below. For example, to print the month November which is on the 10th position in the tuple (10 is the index) you can do:"
      ]
    },
    {
      "cell_type": "code",
      "execution_count": null,
      "metadata": {
        "colab": {
          "base_uri": "https://localhost:8080/"
        },
        "id": "Fi2eN1QCSp88",
        "outputId": "257cf9a2-c7e2-4d7d-ccaf-866ef6f62e67"
      },
      "outputs": [
        {
          "name": "stdout",
          "output_type": "stream",
          "text": [
            "November\n"
          ]
        }
      ],
      "source": [
        "print(months[10])"
      ]
    },
    {
      "cell_type": "markdown",
      "metadata": {
        "id": "m1_60C0VMZCE"
      },
      "source": [
        "### 5.2.2 Lists\n",
        "Lists are extremely similar to tuples. Lists are modifiable (or 'mutable', as a programmer may say), so their values can be changed. Most of the time we use lists, not tuples, because we want to easily change the values of things if we need to.\n",
        "\n",
        "Lists are defined very similarly to tuples. Say you have FIVE cats, called Tom, Snappy, Kitty, Jessie and Chester. To put them in a list, you would do this:<br>"
      ]
    },
    {
      "cell_type": "code",
      "execution_count": null,
      "metadata": {
        "id": "1Xo9LBhHMZCF"
      },
      "outputs": [],
      "source": [
        "cats = ['Tom', 'Snappy', 'Kitty', 'Jessie', 'Chester']"
      ]
    },
    {
      "cell_type": "markdown",
      "metadata": {
        "id": "8BSodRfkMZCF"
      },
      "source": [
        "As you see, the code is exactly the same as a tuple, EXCEPT that all the values are put between square brackets, not parentheses. Again, you don't have to have spaces after the comma.\n",
        "\n",
        "You recall values from lists exactly the same as you do with tuples. For example, to print the name of your 3rd cat you would do this:"
      ]
    },
    {
      "cell_type": "code",
      "execution_count": null,
      "metadata": {
        "colab": {
          "base_uri": "https://localhost:8080/"
        },
        "id": "0TJw8-rrMZCF",
        "outputId": "51347cb7-dccf-4a0d-d376-532e4540713d"
      },
      "outputs": [
        {
          "name": "stdout",
          "output_type": "stream",
          "text": [
            "Kitty\n"
          ]
        }
      ],
      "source": [
        "print(cats[2])"
      ]
    },
    {
      "cell_type": "markdown",
      "metadata": {
        "id": "7ZppTQtLMZCG"
      },
      "source": [
        "You can also recall a range of values. For example, `cats[0:2]` would recall your 1st and 2nd cats in the list. Try it in the field above.\n",
        "\n",
        "Now, remember, lists can be modified. To add a value to a list, you use the `append()` function. Let's say you got a new cat called Catherine. To add her to the list you'd do this:"
      ]
    },
    {
      "cell_type": "code",
      "execution_count": null,
      "metadata": {
        "id": "NFfQs2lLMZCG"
      },
      "outputs": [],
      "source": [
        "cats.append('Catherine')"
      ]
    },
    {
      "cell_type": "markdown",
      "metadata": {
        "id": "o9oUvXVaMZCG"
      },
      "source": [
        "Use the field below to check if the cat has been added to the list."
      ]
    },
    {
      "cell_type": "code",
      "execution_count": null,
      "metadata": {
        "colab": {
          "base_uri": "https://localhost:8080/"
        },
        "id": "2qQ1LsteMZCG",
        "outputId": "96d651d3-8840-4b18-a0aa-c98ac45a9bd4"
      },
      "outputs": [
        {
          "name": "stdout",
          "output_type": "stream",
          "text": [
            "['Tom', 'Snappy', 'Kitty', 'Jessie', 'Chester', 'Catherine', 'Catherine']\n"
          ]
        }
      ],
      "source": [
        "print(cats)"
      ]
    },
    {
      "cell_type": "markdown",
      "metadata": {
        "id": "adMsROW6MZCG"
      },
      "source": [
        "So this is the way of adding a new value to a list:\n",
        "```Python\n",
        "#add a new value to the end of a list:\n",
        "list_name.append(value-to-add)\n",
        "\n",
        "#e.g. to add the number 5038 to the list 'numbers':\n",
        "numbers.append(5038)\n",
        "```\n",
        "\n",
        "Now to a sad situation - One of your cats, Snappy, disappeared, OMG! Very sad, but now you need to remove him (or her) from the list. Removing that sorry cat is an easy task, thankfully, using the `del` operator."
      ]
    },
    {
      "cell_type": "code",
      "execution_count": null,
      "metadata": {
        "id": "4mVBU2p2MZCH"
      },
      "outputs": [],
      "source": [
        "#Remove your 2nd cat, Snappy.\n",
        "del cats[1]"
      ]
    },
    {
      "cell_type": "markdown",
      "metadata": {
        "id": "Z44QVhKeMZCH"
      },
      "source": [
        "Check again which cats are in the list:"
      ]
    },
    {
      "cell_type": "code",
      "execution_count": null,
      "metadata": {
        "colab": {
          "base_uri": "https://localhost:8080/"
        },
        "id": "ozUMHXQCMZCH",
        "outputId": "33a3102e-0e40-4b60-969d-5abe064b32fc"
      },
      "outputs": [
        {
          "name": "stdout",
          "output_type": "stream",
          "text": [
            "['Tom', 'Kitty', 'Jessie', 'Chester', 'Catherine', 'Catherine']\n"
          ]
        }
      ],
      "source": [
        "print(cats)"
      ]
    },
    {
      "cell_type": "markdown",
      "metadata": {
        "id": "wtvRVcerMZCH"
      },
      "source": [
        "You've just removed the 2nd cat in your list - poor Snappy.\n",
        "And with that morbid message, lets move on to..."
      ]
    },
    {
      "cell_type": "markdown",
      "metadata": {
        "id": "b10-rTkLMZCH"
      },
      "source": [
        "### 5.3 Dictionaries\n",
        "Okay, so there is more to life than the names of your cats. You need to call your sister, mother, son, the fruit man, and anyone else who needs to know that their favorite cat is, unfortunately, missing. For that you need a telephone book.\n",
        "\n",
        "Now, the lists we've used above aren't really suitable for a telephone book. For this scenario, you need to know a number based on someone's name. For this we need *Dictionaries*.\n",
        "\n",
        "So how do we make a dictionary? Remember, dictionaries have keys (e.g a person's name), and values (e.g its phone number).\n",
        "\n",
        "When you initially create a dictionary, it is very much the same as creating a tuple or a list. Remember, tuples had `(` and `)`, lists had `[` and `]`. Guess what! Dictionaries have `{` and `}` - curly braces.\n",
        "\n",
        "Here is an example below, showing a dictionary with four phone numbers in it:"
      ]
    },
    {
      "cell_type": "code",
      "execution_count": null,
      "metadata": {
        "colab": {
          "base_uri": "https://localhost:8080/"
        },
        "id": "jDkqgdPtMZCH",
        "outputId": "66342077-3803-4602-c1ee-654402a7f68a"
      },
      "outputs": [
        {
          "name": "stdout",
          "output_type": "stream",
          "text": [
            "1122345\n"
          ]
        }
      ],
      "source": [
        "#Make the phone book:\n",
        "phonebook = { 'Andrew Parson':8806336, \\\n",
        "              'Emily Everett':6784346, \\\n",
        "              'Peter Power':7658344, \\\n",
        "              'Lewis Lame':1122345}\n",
        "print(phonebook['Lewis Lame'])"
      ]
    },
    {
      "cell_type": "markdown",
      "metadata": {
        "id": "TyQmj4FcMZCH"
      },
      "source": [
        "When you run it you see that Lewis Lame's number is printed on screen. Notice how instead of identifying the value by a number, like in the cats and months examples, we identify the value, using another value - in this case the person's name.\n",
        "\n",
        "OK, you've created a new phone book. Now you want to add new numbers to the book. What do you do? A very simple line of code:"
      ]
    },
    {
      "cell_type": "code",
      "execution_count": null,
      "metadata": {
        "id": "uHFlnshWMZCI"
      },
      "outputs": [],
      "source": [
        "#Add the person 'Gingerbread Man' to the phonebook:\n",
        "\n",
        "phonebook['Gingerbread Man'] = 1234567"
      ]
    },
    {
      "cell_type": "markdown",
      "metadata": {
        "id": "_PgRv0-5MZCI"
      },
      "source": [
        "All that line is saying is that there is a person called Gingerbread Man in the phone book, and his number is `1234567`. In other words - the key is `Gingerbread Man`, and the value is `1234567`."
      ]
    },
    {
      "cell_type": "markdown",
      "metadata": {
        "id": "xi73P0XwMZCI"
      },
      "source": [
        "Check if it's added using the field below."
      ]
    },
    {
      "cell_type": "code",
      "execution_count": null,
      "metadata": {
        "colab": {
          "base_uri": "https://localhost:8080/"
        },
        "id": "yCDXHssPMZCI",
        "outputId": "ca764ef7-0df7-42f3-9817-3cc1e9da6fd6"
      },
      "outputs": [
        {
          "name": "stdout",
          "output_type": "stream",
          "text": [
            "{'Andrew Parson': 8806336, 'Emily Everett': 6784346, 'Peter Power': 7658344, 'Lewis Lame': 1122345, 'Gingerbread Man': 1234567}\n"
          ]
        }
      ],
      "source": [
        "print(phonebook)"
      ]
    },
    {
      "cell_type": "markdown",
      "metadata": {
        "id": "CvdqgHQPMZCI"
      },
      "source": [
        "You delete entries in a dictionary just like in a list. Let's say Andrew Parson is your neighbor, and was involved in the disappearance of your cat. You never want to talk to him again, and therefore don't need his number. Just like in a list, you'd do this:"
      ]
    },
    {
      "cell_type": "code",
      "execution_count": null,
      "metadata": {
        "id": "62Q9BWDhMZCI"
      },
      "outputs": [],
      "source": [
        "del phonebook['Andrew Parson']"
      ]
    },
    {
      "cell_type": "markdown",
      "metadata": {
        "id": "evNpd6_7MZCI"
      },
      "source": [
        "Again, very easy, the `del` operator deletes any function, variable, or entry in a list or dictionary (An entry in a dictionary is just a variable with a number or text string as a name. This comes in handy later on.)"
      ]
    },
    {
      "cell_type": "markdown",
      "metadata": {
        "id": "ZbdS686HMZCI"
      },
      "source": [
        "Check if the number is gone using the field below."
      ]
    },
    {
      "cell_type": "code",
      "execution_count": null,
      "metadata": {
        "colab": {
          "base_uri": "https://localhost:8080/"
        },
        "id": "o99KpdEZMZCJ",
        "outputId": "b183f4b9-87eb-4250-ab17-4b8a75acc12e"
      },
      "outputs": [
        {
          "name": "stdout",
          "output_type": "stream",
          "text": [
            "{'Emily Everett': 6784346, 'Peter Power': 7658344, 'Lewis Lame': 1122345, 'Gingerbread Man': 1234567}\n"
          ]
        }
      ],
      "source": [
        "print(phonebook)"
      ]
    },
    {
      "cell_type": "markdown",
      "metadata": {
        "id": "Q1co5lBfMZCJ"
      },
      "source": [
        "Remember that append function that we used with the list? Well, there are quite a few of those that can be used with dictionaries. Below, I will write you a program, and it will incorporate some of those functions in. It will have comments along the way explaining what it does. Experiment as much as you like with it."
      ]
    },
    {
      "cell_type": "code",
      "execution_count": null,
      "metadata": {
        "id": "TM0u73aWMZCJ"
      },
      "outputs": [],
      "source": [
        "#A few examples of a dictionary\n",
        "\n",
        "#First we define the dictionary\n",
        "#it will have nothing in it this time\n",
        "ages = {}\n",
        "\n",
        "#Add a couple of names to the dictionary\n",
        "ages['Sue'] = 23\n",
        "ages['Peter'] = 19\n",
        "ages['Andrew'] = 78\n",
        "ages['Karren'] = 45\n",
        "\n",
        "#Use an 'if' statement to find a key in the list.\n",
        "#Remember - this is how 'if' statements work -\n",
        "#they run if something is true\n",
        "#and they don't when something is false.\n",
        "if 'Sue' in ages:\n",
        "    print(\"Sue is in the dictionary. She is\", \\\n",
        "ages['Sue'], \"years old\")\n",
        "\n",
        "else:\n",
        "    print(\"Sue is not in the dictionary\")\n",
        "\n",
        "#Use the function keys() -\n",
        "#This function returns a list\n",
        "#of all the names of the keys.\n",
        "#E.g.\n",
        "print(\"The following people are in the dictionary:\")\n",
        "print(ages.keys())\n",
        "\n",
        "#You could use this function to\n",
        "#put all the key names in a list:\n",
        "keys = ages.keys()\n",
        "\n",
        "#You can also get a list\n",
        "#of all the values in a dictionary.\n",
        "#You use the values() function:\n",
        "print(\"People are aged the following:\", \\\n",
        "ages.values())\n",
        "\n",
        "#Put it in a list:\n",
        "values = ages.values()\n",
        "\n",
        "#You can sort lists, with the sorted() function\n",
        "#It will sort all values in a list\n",
        "#alphabetically, numerically, etc...\n",
        "#You can't sort dictionaries -\n",
        "#they are in no particular order\n",
        "print(keys)\n",
        "sortedkeys = sorted(keys)\n",
        "print(sortedkeys)\n",
        "\n",
        "print(values)\n",
        "sortedvalues = sorted(values)\n",
        "print(sortedvalues)\n",
        "\n",
        "#You can find the number of entries\n",
        "#with the len() function:\n",
        "print(\"The dictionary has\", \\\n",
        "len(ages), \"entries in it\")"
      ]
    },
    {
      "cell_type": "markdown",
      "metadata": {
        "id": "SyG1eDkxZgHt"
      },
      "source": [
        "Of course, keys in a dictionary don't have to be of type string. Here's an example having numbers as the key in the dictionary:"
      ]
    },
    {
      "cell_type": "code",
      "execution_count": null,
      "metadata": {
        "colab": {
          "base_uri": "https://localhost:8080/"
        },
        "id": "4I4hT-GcZ5J_",
        "outputId": "04f934e9-4d8c-4a5f-c9d8-afa04efad6f5"
      },
      "outputs": [
        {
          "name": "stdout",
          "output_type": "stream",
          "text": [
            "Angie Higgs\n"
          ]
        }
      ],
      "source": [
        "phone_lookup = {\n",
        "    8005551212: \"Info number\",\n",
        "    9495551212: \"John Bates\",\n",
        "    3105551212: \"Angie Higgs\"}\n",
        "\n",
        "print(phone_lookup[3105551212])"
      ]
    },
    {
      "cell_type": "markdown",
      "metadata": {
        "id": "x0bN4jE5akaB"
      },
      "source": [
        "And the dictionary can store any arbitrary object/value. How about a dictionary that holds a dictionary, that holds another dictionary?"
      ]
    },
    {
      "cell_type": "code",
      "execution_count": null,
      "metadata": {
        "colab": {
          "base_uri": "https://localhost:8080/"
        },
        "id": "HoTZ5Ctza6yD",
        "outputId": "b3440178-ce2e-4d68-de67-5ebf4c033360"
      },
      "outputs": [
        {
          "name": "stdout",
          "output_type": "stream",
          "text": [
            "{'atlanta': {'phone': '8885551212', 'city': 'Atlanta', 'state': 'GA'}, 'sf': {'phone': '8005551212', 'city': 'San Francisco', 'state': 'CA'}}\n",
            "San Francisco phone: 8005551212\n"
          ]
        }
      ],
      "source": [
        "offices = {\n",
        "    \"atlanta\": {\n",
        "        \"phone\": \"8885551212\",\n",
        "        \"city\": \"Atlanta\",\n",
        "        \"state\": \"GA\"\n",
        "    },\n",
        "    \"sf\": {\n",
        "        \"phone\": \"8005551212\",\n",
        "        \"city\": \"San Francisco\",\n",
        "        \"state\": \"CA\"\n",
        "    }\n",
        "}\n",
        "\n",
        "print(offices)\n",
        "print(\"San Francisco phone: %s\" % offices[\"sf\"][\"phone\"])"
      ]
    },
    {
      "cell_type": "markdown",
      "metadata": {
        "id": "TJRctkhMc_r_"
      },
      "source": [
        "Quite powerful isn't it? But with great power comes great responsibility. What if if a key is not in a dictionary and get an error like in the example below?"
      ]
    },
    {
      "cell_type": "code",
      "execution_count": null,
      "metadata": {
        "colab": {
          "base_uri": "https://localhost:8080/",
          "height": 201
        },
        "id": "0c0Iy06CdSPw",
        "outputId": "92e1b649-523a-4562-e34c-f45fd37c3957"
      },
      "outputs": [
        {
          "ename": "KeyError",
          "evalue": "ignored",
          "output_type": "error",
          "traceback": [
            "\u001b[0;31m---------------------------------------------------------------------------\u001b[0m",
            "\u001b[0;31mKeyError\u001b[0m                                  Traceback (most recent call last)",
            "\u001b[0;32m<ipython-input-21-796ef6652c38>\u001b[0m in \u001b[0;36m<module>\u001b[0;34m()\u001b[0m\n\u001b[1;32m     13\u001b[0m \u001b[0;34m\u001b[0m\u001b[0m\n\u001b[1;32m     14\u001b[0m \u001b[0;31m# here we will try to get a phone for a undefined office. This will blow up with a KeyError exception\u001b[0m\u001b[0;34m\u001b[0m\u001b[0;34m\u001b[0m\u001b[0;34m\u001b[0m\u001b[0m\n\u001b[0;32m---> 15\u001b[0;31m \u001b[0mprint\u001b[0m\u001b[0;34m(\u001b[0m\u001b[0;34m\"Get the phone of the NY office: %s\"\u001b[0m \u001b[0;34m%\u001b[0m \u001b[0moffices\u001b[0m\u001b[0;34m[\u001b[0m\u001b[0;34m\"ny\"\u001b[0m\u001b[0;34m]\u001b[0m\u001b[0;34m[\u001b[0m\u001b[0;34m\"phone_mobile\"\u001b[0m\u001b[0;34m]\u001b[0m\u001b[0;34m)\u001b[0m\u001b[0;34m\u001b[0m\u001b[0;34m\u001b[0m\u001b[0m\n\u001b[0m",
            "\u001b[0;31mKeyError\u001b[0m: 'ny'"
          ]
        }
      ],
      "source": [
        "offices = {\n",
        "    \"atlanta\": {\n",
        "        \"phone\": \"8885551212\",\n",
        "        \"city\": \"Atlanta\",\n",
        "        \"state\": \"GA\"\n",
        "    },\n",
        "    \"sf\": {\n",
        "        \"phone\": \"8005551212\",\n",
        "        \"city\": \"San Francisco\",\n",
        "        \"state\": \"CA\"\n",
        "    }\n",
        "}\n",
        "\n",
        "# here we will try to get a phone for a undefined office. This will blow up with a KeyError exception\n",
        "print(\"Get the phone of the NY office: %s\" % offices[\"ny\"][\"phone_mobile\"])"
      ]
    },
    {
      "cell_type": "markdown",
      "metadata": {
        "id": "TuqkZeIVdhzt"
      },
      "source": [
        "You will get a KeyError. It's no big deal for hard-coded, predefined values but what about user input or if the key is some other dynamic source?\n",
        "\n",
        "There are a few ways to deal with that. The most [Pythonic](https://docs.python-guide.org/writing/style/) might be using the \"in\" keyword\n",
        "\n",
        "```\n",
        "KEY in DICT\n",
        "```\n",
        ""
      ]
    },
    {
      "cell_type": "code",
      "execution_count": null,
      "metadata": {
        "colab": {
          "base_uri": "https://localhost:8080/"
        },
        "id": "bkheJ6AnehnV",
        "outputId": "479e7d87-0550-4a6f-a25b-8f8d541c2ddc"
      },
      "outputs": [
        {
          "name": "stdout",
          "output_type": "stream",
          "text": [
            "sf key is in the offices dictionary\n",
            "ny key is NOT in the offices dictionary\n"
          ]
        }
      ],
      "source": [
        "offices = {\n",
        "    \"atlanta\": {\n",
        "        \"phone\": \"8885551212\",\n",
        "        \"city\": \"Atlanta\",\n",
        "        \"state\": \"GA\"\n",
        "    },\n",
        "    \"sf\": {\n",
        "        \"phone\": \"8005551212\",\n",
        "        \"city\": \"San Francisco\",\n",
        "        \"state\": \"CA\"\n",
        "    }\n",
        "}\n",
        "\n",
        "if \"sf\" in offices:\n",
        "  print(\"sf key is in the offices dictionary\")\n",
        "\n",
        "if \"ny\" not in offices:\n",
        "  print(\"ny key is NOT in the offices dictionary\")"
      ]
    },
    {
      "cell_type": "markdown",
      "metadata": {
        "id": "wx0bboZOfIH0"
      },
      "source": [
        "and of course you can always ask the dictionary for the list of keys that it holds:"
      ]
    },
    {
      "cell_type": "code",
      "execution_count": null,
      "metadata": {
        "colab": {
          "base_uri": "https://localhost:8080/"
        },
        "id": "06F2qE3yfO37",
        "outputId": "2c38590a-0ca5-4077-d8d6-d9d4f8a228df"
      },
      "outputs": [
        {
          "name": "stdout",
          "output_type": "stream",
          "text": [
            "dict_keys(['atlanta', 'sf'])\n"
          ]
        }
      ],
      "source": [
        "offices = {\n",
        "    \"atlanta\": {\n",
        "        \"phone\": \"8885551212\",\n",
        "        \"city\": \"Atlanta\",\n",
        "        \"state\": \"GA\"\n",
        "    },\n",
        "    \"sf\": {\n",
        "        \"phone\": \"8005551212\",\n",
        "        \"city\": \"San Francisco\",\n",
        "        \"state\": \"CA\"\n",
        "    }\n",
        "}\n",
        "\n",
        "print(offices.keys())"
      ]
    },
    {
      "cell_type": "markdown",
      "metadata": {
        "id": "tM9kXo-VaAZX"
      },
      "source": [
        "or for the list of values that it holds:"
      ]
    },
    {
      "cell_type": "code",
      "execution_count": null,
      "metadata": {
        "colab": {
          "base_uri": "https://localhost:8080/"
        },
        "id": "vO9tpljyaF-I",
        "outputId": "4664c51f-5598-4176-9dd6-6cbe0397f834"
      },
      "outputs": [
        {
          "name": "stdout",
          "output_type": "stream",
          "text": [
            "dict_values([{'phone': '8885551212', 'city': 'Atlanta', 'state': 'GA'}, {'phone': '8005551212', 'city': 'San Francisco', 'state': 'CA'}])\n"
          ]
        }
      ],
      "source": [
        "offices = {\n",
        "    \"atlanta\": {\n",
        "        \"phone\": \"8885551212\",\n",
        "        \"city\": \"Atlanta\",\n",
        "        \"state\": \"GA\"\n",
        "    },\n",
        "    \"sf\": {\n",
        "        \"phone\": \"8005551212\",\n",
        "        \"city\": \"San Francisco\",\n",
        "        \"state\": \"CA\"\n",
        "    }\n",
        "}\n",
        "\n",
        "print(offices.values())"
      ]
    },
    {
      "cell_type": "markdown",
      "metadata": {
        "id": "QK5Z_sRiMiim"
      },
      "source": [
        "# 6. For Loop"
      ]
    },
    {
      "cell_type": "markdown",
      "metadata": {
        "id": "3cCGq2bTjBFE"
      },
      "source": [
        "## 6.1 Introduction\n",
        "Well, in the first lesson about loops, I said I would put off teaching you the for loop, until we had reached lists. Well, here it is!"
      ]
    },
    {
      "cell_type": "markdown",
      "metadata": {
        "id": "jgCKzsPqi-hK"
      },
      "source": [
        "## 6.2 The `for` Loop\n",
        "Basically, the `for` loop does something for every value in a list. Here is an example of it in code:"
      ]
    },
    {
      "cell_type": "code",
      "execution_count": null,
      "metadata": {
        "colab": {
          "base_uri": "https://localhost:8080/"
        },
        "id": "3_Ss1gBTMiim",
        "outputId": "4d3e5685-7553-4e05-f068-3110632329af"
      },
      "outputs": [
        {
          "name": "stdout",
          "output_type": "stream",
          "text": [
            "45\n",
            "eat me\n",
            "90210\n",
            "The day has come, the walrus said, to speak of many things\n",
            "-67\n"
          ]
        }
      ],
      "source": [
        "# Example 'for' loop\n",
        "# First, create a list to loop through:\n",
        "newList = [45, 'eat me', 90210, \"The day has come, the walrus said, \\\n",
        "to speak of many things\", -67]\n",
        "\n",
        "# create the loop:\n",
        "# Goes through newList, and sequentially puts each bit of information\n",
        "# into the variable value, and runs the loop\n",
        "for value in newList:\n",
        "    print(value)"
      ]
    },
    {
      "cell_type": "markdown",
      "metadata": {
        "id": "EXv_Cw-KMiin"
      },
      "source": [
        "As you see, when the loop executes, it runs through all of the values in the list mentioned after `in`. It then puts them into `value`, and executes through the loop, each time with value being worth something different."
      ]
    },
    {
      "cell_type": "code",
      "execution_count": null,
      "metadata": {
        "colab": {
          "base_uri": "https://localhost:8080/"
        },
        "id": "VrrkEzOXMiin",
        "outputId": "c00050a6-1f1a-404b-8683-2fa131f2906c"
      },
      "outputs": [
        {
          "name": "stdout",
          "output_type": "stream",
          "text": [
            "T\n",
            "h\n",
            "i\n",
            "s\n",
            " \n",
            "i\n",
            "s\n",
            " \n",
            "A\n",
            "n\n",
            "y\n",
            "o\n",
            "n\n",
            "e\n",
            " \n",
            "A\n",
            "I\n"
          ]
        }
      ],
      "source": [
        "# example\n",
        "sentence = \"This is Anyone AI\"\n",
        "\n",
        "for word in sentence:\n",
        "    print(word)\n",
        "\n"
      ]
    },
    {
      "cell_type": "markdown",
      "metadata": {
        "id": "x1ES8jrDMiio"
      },
      "source": [
        "A couple of things you've just learned:\n",
        "* As you see, strings (remember - strings are lines of text) are just lists with lots of characters.\n",
        "* The program went through each of the letters (or values) in word, and it printed them on screen.<br>"
      ]
    },
    {
      "cell_type": "markdown",
      "metadata": {
        "id": "kGpwgaK2Miio"
      },
      "source": [
        "Loops are very powerful and used everywhere. Remember the dictionary from last lesson? Well, when we ask for\n",
        "\n",
        "```\n",
        "keys()\n",
        "```\n",
        "\n",
        "the dictionary returned a list that we can loop through\n",
        "\n"
      ]
    },
    {
      "cell_type": "code",
      "execution_count": null,
      "metadata": {
        "colab": {
          "base_uri": "https://localhost:8080/"
        },
        "id": "dvXbRhfRFQuJ",
        "outputId": "caba2622-d000-4b58-ebf7-ed4e2f511ce6"
      },
      "outputs": [
        {
          "name": "stdout",
          "output_type": "stream",
          "text": [
            "atlanta\n",
            "sf\n"
          ]
        }
      ],
      "source": [
        "offices = {\n",
        "    \"atlanta\": {\n",
        "        \"phone\": \"8885551212\",\n",
        "        \"city\": \"Atlanta\",\n",
        "        \"state\": \"GA\"\n",
        "    },\n",
        "    \"sf\": {\n",
        "        \"phone\": \"8005551212\",\n",
        "        \"city\": \"San Francisco\",\n",
        "        \"state\": \"CA\"\n",
        "    }\n",
        "}\n",
        "\n",
        "for key in offices.keys():\n",
        "  print(key)"
      ]
    },
    {
      "cell_type": "markdown",
      "metadata": {
        "id": "0dmhedWRFjW4"
      },
      "source": [
        "you can also use the for loop to enumerate through the dictionary with key and value. For instance:"
      ]
    },
    {
      "cell_type": "code",
      "execution_count": null,
      "metadata": {
        "colab": {
          "base_uri": "https://localhost:8080/"
        },
        "id": "2woAxpJdF2R_",
        "outputId": "f6ebd3c0-78bd-4fed-ae93-3caee258cfe6"
      },
      "outputs": [
        {
          "name": "stdout",
          "output_type": "stream",
          "text": [
            "Here is a key item combo. Key: John, Number: 3105551212\n",
            "Here is a key item combo. Key: Bob, Number: 9496667777\n",
            "Here is a key item combo. Key: Alice, Number: 7144445555\n"
          ]
        }
      ],
      "source": [
        "phonebook = {\n",
        "    \"John\": \"3105551212\",\n",
        "    \"Bob\": \"9496667777\",\n",
        "    \"Alice\": \"7144445555\"\n",
        "}\n",
        "\n",
        "# similar to a simple loop, but items() returns to values: key and the value from the dictionary\n",
        "for key, item in phonebook.items():\n",
        "  print(\"Here is a key item combo. Key: %s, Number: %s\" % (key, item))"
      ]
    },
    {
      "cell_type": "markdown",
      "metadata": {
        "id": "ltpaC1eWHAJH"
      },
      "source": [
        "When would you use a loop like that? Well, when for instance you want to look at the key or value and make a decision to do something based on the value.\n",
        "\n",
        "All these examples are simple and the lists are small but in the real world you will deal with much more data and you have to keep in mind that looping a large dataset takes time. Usually we loop through a list because we are looking for something or we want to do something with the value. If you are looking for specific data or value, it's a good practice to finish the loop as soon as you can. Like most languages, Python has the ```break``` keyword that will exit the current loop when instructed:\n",
        "\n"
      ]
    },
    {
      "cell_type": "code",
      "execution_count": null,
      "metadata": {
        "colab": {
          "base_uri": "https://localhost:8080/"
        },
        "id": "lbfNwqHEIdfR",
        "outputId": "dd8fca62-0d6e-44b7-f674-c54d911d49b3"
      },
      "outputs": [
        {
          "name": "stdout",
          "output_type": "stream",
          "text": [
            "Found the number: 667 after 668 loops\n"
          ]
        }
      ],
      "source": [
        "loop_count = 0\n",
        "\n",
        "# the range() function will give us a list of numbers 0 through 1000\n",
        "for number in range(1000):\n",
        "  loop_count += 1\n",
        "  if number == 667:\n",
        "    break\n",
        "\n",
        "print(\"Found the number: %s after %s loops\" % (number, loop_count))"
      ]
    },
    {
      "cell_type": "markdown",
      "metadata": {
        "id": "RKkDWlTLMgyY"
      },
      "source": [
        "Python also has the ```continue``` statement that will \"skip\" the for loop to the next value. The statement is usually used when you want to ignore certain values:"
      ]
    },
    {
      "cell_type": "code",
      "execution_count": null,
      "metadata": {
        "colab": {
          "base_uri": "https://localhost:8080/"
        },
        "id": "MhoHdqvVNV-H",
        "outputId": "8d454bd7-1603-4dc8-cf14-e699e6b41d61"
      },
      "outputs": [
        {
          "name": "stdout",
          "output_type": "stream",
          "text": [
            "[1, 2, 3, 4, 5, 6, 7, 8, 9, 10, 11, 12, 13, 14, 16, 17, 18, 19, 20, 21, 22, 23, 24, 25, 26, 27, 28, 29, 30, 31, 32, 33, 34, 35, 36, 37, 38, 39, 40, 41, 42, 43, 44, 45, 46, 47, 48, 49, 50, 51, 52, 53, 54, 55, 56, 57, 58, 59, 60, 61, 62, 63, 64, 65, 66, 67, 68, 69, 70, 71, 72, 73, 74, 75, 76, 77, 78, 79, 80, 81, 82, 83, 84, 85, 86, 87, 88, 89, 90, 91, 92, 93, 94, 95, 96, 97, 98, 99]\n"
          ]
        }
      ],
      "source": [
        "my_list_of_numbers = []\n",
        "for number in range(1, 100):\n",
        "  # add all numbers to the list except the 15\n",
        "  if number == 15:\n",
        "    continue\n",
        "  my_list_of_numbers.append(number)\n",
        "\n",
        "print(my_list_of_numbers)\n"
      ]
    },
    {
      "cell_type": "markdown",
      "metadata": {
        "id": "GYwAqX6hKV8n"
      },
      "source": [
        "## 6.3 Nested loops\n",
        "A nested loop is a loop inside the body of the outer loop. The inner or outer loop can be any type, such as a ```while``` loop or ```for``` loop. For example, the outer for loop can contain a ```while``` loop and vice versa.\n",
        "\n",
        "The outer loop can contain more than one inner loop. There is no limitation on the chaining of loops.\n",
        "\n",
        "In the nested loop, the number of iterations will be equal to the number of iterations in the outer loop multiplied by the iterations in the inner loop.\n",
        "\n",
        "So be careful, things might get slow if you chain too many large loops."
      ]
    },
    {
      "cell_type": "code",
      "execution_count": null,
      "metadata": {
        "colab": {
          "base_uri": "https://localhost:8080/"
        },
        "id": "IOx4NLwyK9B-",
        "outputId": "e6360eeb-2de4-4c70-97e5-ae1460297aba"
      },
      "outputs": [
        {
          "name": "stdout",
          "output_type": "stream",
          "text": [
            "total_loop_count is 1000000\n"
          ]
        }
      ],
      "source": [
        "total_loop_count = 0\n",
        "\n",
        "for first in range(0, 100):\n",
        "  for second in range(0, 100):\n",
        "    for third in range(0, 100):\n",
        "      total_loop_count += 1\n",
        "\n",
        "print(\"total_loop_count is %s\" % total_loop_count)\n"
      ]
    },
    {
      "cell_type": "markdown",
      "metadata": {
        "id": "3kESPqd0QZDC"
      },
      "source": [
        "The ```break``` and ```continue``` statements are your friends when dealing nested loops and use them whenever possible."
      ]
    },
    {
      "cell_type": "markdown",
      "metadata": {
        "id": "8ccRNmqKRKMA"
      },
      "source": [
        "## 6.4 List comprehension\n",
        "As you have seen, lists and loops are very powerful and you will be in many situations where you will loop through a list to evaluate the value to make a new list based on a subset of the values. Something like this is quite common:"
      ]
    },
    {
      "cell_type": "code",
      "execution_count": null,
      "metadata": {
        "colab": {
          "base_uri": "https://localhost:8080/"
        },
        "id": "Gsye_YnLSDRI",
        "outputId": "9524c81d-2703-4fa3-8ea2-57c639bd454b"
      },
      "outputs": [
        {
          "name": "stdout",
          "output_type": "stream",
          "text": [
            "['apple', 'banana', 'mango']\n"
          ]
        }
      ],
      "source": [
        "fruits = [\"apple\", \"banana\", \"cherry\", \"kiwi\", \"mango\"]\n",
        "newlist = []\n",
        "\n",
        "for x in fruits:\n",
        "  if \"a\" in x:\n",
        "    newlist.append(x)\n",
        "\n",
        "print(newlist)"
      ]
    },
    {
      "cell_type": "markdown",
      "metadata": {
        "id": "89h4nO13SJpM"
      },
      "source": [
        "The ```newlist``` now contains ```['apple', 'banana', 'mango']```.\n",
        "\n",
        "A Pythonic way to write the above code is to use the list comprehension syntax. Outside of Python, not many languages have this concept but it is very prevalent in Python, so you are bound to encounter it everywhere"
      ]
    },
    {
      "cell_type": "code",
      "execution_count": null,
      "metadata": {
        "colab": {
          "base_uri": "https://localhost:8080/"
        },
        "id": "H-le5xKgSxeA",
        "outputId": "6ae31e19-2901-4688-e7d5-ee91b6d28c9e"
      },
      "outputs": [
        {
          "name": "stdout",
          "output_type": "stream",
          "text": [
            "['apple', 'banana', 'mango']\n"
          ]
        }
      ],
      "source": [
        "fruits = [\"apple\", \"banana\", \"cherry\", \"kiwi\", \"mango\"]\n",
        "newlist = [fruit for fruit in fruits if \"a\" in fruit]\n",
        "\n",
        "print(newlist)"
      ]
    },
    {
      "cell_type": "markdown",
      "metadata": {
        "id": "asgqZFjwTTnT"
      },
      "source": [
        "Same result, less code, but it will take a while to get used to! The above example is quite contrived. Something more common is to modify values of the list. For instance:"
      ]
    },
    {
      "cell_type": "code",
      "execution_count": null,
      "metadata": {
        "colab": {
          "base_uri": "https://localhost:8080/"
        },
        "id": "blFpBFH0T1O_",
        "outputId": "b63b5ed2-8b57-4291-ffd1-15f4be7d7761"
      },
      "outputs": [
        {
          "name": "stdout",
          "output_type": "stream",
          "text": [
            "[1.0, 2.0, 3.0, 4.0, 5.0, 6.0, 7.0, 8.0, 9.0]\n"
          ]
        }
      ],
      "source": [
        "integers = [1,2,3,4,5,6,7,8,9]\n",
        "floats = [float(i) for i in integers]\n",
        "print(floats)"
      ]
    },
    {
      "cell_type": "markdown",
      "metadata": {
        "id": "0diQtAXvM2Fw"
      },
      "source": [
        "# 7. File I/O"
      ]
    },
    {
      "cell_type": "markdown",
      "metadata": {
        "id": "qrYkq41cjk4J"
      },
      "source": [
        "## 7.1 Introduction\n",
        "As a data scientist, your job will be to deal with data all day long. Whether you read it from the web or from file, or you output to a file or to some server, it's all Input and Output. Where it's get a little bit tricky is a Jupyter Notebook environment you are not running python on your local computer and hence you don't have access to your local file system."
      ]
    },
    {
      "cell_type": "markdown",
      "metadata": {
        "id": "ypN__gVZjgj9"
      },
      "source": [
        "## 7.2 Opening a file\n",
        "To open a text file you use, well, the `open()` function. Seems sensible. You pass certain parameters to `open()` to tell it in which way the file should be opened - `r` for read only, `w` for writing only (if there is an old file, it will be written over), `a` for appending (adding things on to the end of the file) and `r+` for both reading and writing. But less talk, let's open a normal text file for reading:"
      ]
    },
    {
      "cell_type": "code",
      "execution_count": null,
      "metadata": {
        "colab": {
          "base_uri": "https://localhost:8080/"
        },
        "id": "sEjTnPhGoA2M",
        "outputId": "5808ab39-858f-4ca5-9558-ce6f812aad74"
      },
      "outputs": [
        {
          "name": "stdout",
          "output_type": "stream",
          "text": [
            "\"longitude\",\"latitude\",\"housing_median_age\",\"total_rooms\",\"total_bedrooms\",\"population\",\"households\",\"median_income\",\"median_house_value\"\n",
            "\n",
            "-122.050000,37.370000,27.000000,3885.000000,661.000000,1537.000000,606.000000,6.608500,344700.000000\n",
            "\n",
            "-118.300000,34.260000,43.000000,1510.000000,310.000000,809.000000,277.000000,3.599000,176500.000000\n",
            "\n",
            "-117.810000,33.780000,27.000000,3589.000000,507.000000,1484.000000,495.000000,5.793400,270500.000000\n",
            "\n",
            "-118.360000,33.820000,28.000000,67.000000,15.000000,49.000000,11.000000,6.135900,330000.000000\n",
            "\n",
            "-119.670000,36.330000,19.000000,1241.000000,244.000000,850.000000,237.000000,2.937500,81700.000000\n",
            "\n",
            "-119.560000,36.510000,37.000000,1018.000000,213.000000,663.000000,204.000000,1.663500,67000.000000\n",
            "\n",
            "-121.430000,38.630000,43.000000,1009.000000,225.000000,604.000000,218.000000,1.664100,67000.000000\n",
            "\n",
            "-120.650000,35.480000,19.000000,2310.000000,471.000000,1341.000000,441.000000,3.225000,166900.000000\n",
            "\n",
            "-122.840000,38.400000,15.000000,3080.000000,617.000000,1446.000000,599.000000,3.669600,194400.000000\n",
            "\n",
            "-118.020000,34.080000,31.000000,2402.000000,632.000000,2830.000000,603.000000,2.333300,164200.000000\n",
            "\n"
          ]
        }
      ],
      "source": [
        "filename = './sample_data/california_housing_test.csv'\n",
        "fl = open(filename, 'r') # Open the file\n",
        "linecount = 0\n",
        "for line in fl:\n",
        "    print(line)\n",
        "    linecount += 1\n",
        "    if linecount > 10: break # let's not print too many lines to the console\n",
        "fl.close() #close the file"
      ]
    },
    {
      "cell_type": "markdown",
      "metadata": {
        "id": "4rD-gcZQoC5F"
      },
      "source": [
        "A better way to write this is:"
      ]
    },
    {
      "cell_type": "code",
      "execution_count": null,
      "metadata": {
        "id": "Qik4L5TRoEkb"
      },
      "outputs": [],
      "source": [
        "filename = './sample_data/california_housing_test.csv'\n",
        "linecount = 0\n",
        "with open(filename, 'r') as fl:\n",
        "    for line in fl:\n",
        "        print(line)\n",
        "        linecount += 1\n",
        "        if linecount > 10: break # let's not print too many lines to the console"
      ]
    },
    {
      "cell_type": "markdown",
      "metadata": {
        "id": "Al0HEbtzoNYC"
      },
      "source": [
        "With the second method you don't have to add `fl.close`, it is auto-magically closed."
      ]
    },
    {
      "cell_type": "markdown",
      "metadata": {
        "id": "tqsgUeR_M2Fw"
      },
      "source": [
        "## 7.3 Read the whole thing...\n",
        "If you want to print the whole file, instead of looping over the lines you can\n"
      ]
    },
    {
      "cell_type": "code",
      "execution_count": null,
      "metadata": {
        "id": "zLgHcZ-4oX4M"
      },
      "outputs": [],
      "source": [
        "filename = './sample_data/california_housing_test.csv'\n",
        "with open(filename, 'r') as fl:\n",
        "  print(fl.read())"
      ]
    },
    {
      "cell_type": "markdown",
      "metadata": {
        "id": "63N_vgwqodzK"
      },
      "source": [
        "while this is convenient, it's not really advisable for large files!"
      ]
    },
    {
      "cell_type": "markdown",
      "metadata": {
        "id": "9lpY5-7yM2Fx"
      },
      "source": [
        "## 7.4 Other I/O Functions\n",
        "There are many other functions that help you with dealing with files. They have many uses that empower you to do more, and make the things you can do easier. Let's have a look at `tell()`, `readline()`, `readlines()`, `write()` and `close()`.\n",
        "\n",
        "`tell()` returns where the cursor is in the file. It has no parameters, just type it in (like what the example below will show). This is infinitely useful, for knowing what you are referring to, where it is, and simple control of the cursor. To use it, type `fileobjectname.tell()` - where fileobjectname is the name of the file object you created when you opened the file (in `openfile = open('pathtofile', 'r')` the file object name is `openfile`).\n",
        "\n",
        "`readline()` reads from where the cursor is till the end of the line. Remember that the end of the line isn't the edge of your screen - the line ends when you press enter to create a new line. This is useful for things like reading a log of events, or going through something progressively to process it. There are no parameters you have to pass to `readline()`, though you can optionally tell it the maximum number of bytes/letters to read by putting a number in the brackets. Use it with `fileobjectname.readline()`.<br>\n",
        "\n",
        "`readlines()` is much like `readline()`, however `readlines()` reads all the lines from the cursor onwards, and returns a list, with each list element holding a line of code. Use it with `fileobjectname.readlines()`. For example, if you had the text file:\n",
        "```\n",
        "Line 1\n",
        "\n",
        "Line 3\n",
        "Line 4\n",
        "\n",
        "Line 6\n",
        "```\n",
        "then the returned list from `readlines()` would be:<br>\n",
        "\n",
        "| Index | Value |\n",
        "| :--: | :--: |\n",
        "| 0 | 'Line 1' |\n",
        "| 1 | \" |\n",
        "| 2 | 'Line 3' |\n",
        "| 3 | 'Line 4' |\n",
        "| 4 | \" |\n",
        "| 5 | 'Line 6' |\n",
        "\n",
        "The `write()` function, writes to the file. How did you guess??? It writes from where the cursor is, and overwrites text in front of it - like in MS Word, where you press 'insert' and it writes over the top of old text. To utilize this most purposeful function, put a string between the brackets to write e.g. `fileobjectname.write('this is a string')`.\n",
        "\n",
        "`close`, you may figure, closes the file so that you can no longer read or write to it until you reopen in again. Simple enough. To use, you would write `fileobjectname.close()`. Simple!\n",
        "\n",
        "Later in the course you can try this in the Python command line. Open up a test file (or create a new one...) and play around with these functions. You can do some simple (and very inconvenient) text editing."
      ]
    },
    {
      "cell_type": "markdown",
      "metadata": {
        "id": "deNm2UvnM2Fx"
      },
      "source": [
        "## 7.5 File I/O Handson\n",
        "\n",
        "Luckily for us, Google Colab environment ships with a little bit of sample data. If you click on the small folder icon in the left-hand toolbar, you will see \"smaple_data\" folder that contains a few CSV files. You can download these files if you want and take a look at them in Excel or similar app. If you take a look a california_housing_test.csv you will see this:\n",
        "\n",
        "```\n",
        "\"longitude\",\"latitude\",\"housing_median_age\",\"total_rooms\",\"total_bedrooms\",\"population\",\"households\",\"median_income\",\"median_house_value\"\n",
        "-122.050000,37.370000,27.000000,3885.000000,661.000000,1537.000000,606.000000,6.608500,344700.000000\n",
        "-118.300000,34.260000,43.000000,1510.000000,310.000000,809.000000,277.000000,3.599000,176500.000000\n",
        "-117.810000,33.780000,27.000000,3589.000000,507.000000,1484.000000,495.000000,5.793400,270500.000000\n",
        "-118.360000,33.820000,28.000000,67.000000,15.000000,49.000000,11.000000,6.135900,330000.000000\n",
        "-119.670000,36.330000,19.000000,1241.000000,244.000000,850.000000,237.000000,2.937500,81700.000000\n",
        ".\n",
        ".\n",
        ".\n",
        ".\n",
        "```\n",
        "\n",
        "Lets open the file and print out the first 5 lines:"
      ]
    },
    {
      "cell_type": "code",
      "execution_count": null,
      "metadata": {
        "colab": {
          "base_uri": "https://localhost:8080/"
        },
        "id": "qaMDJEWQq6Oe",
        "outputId": "176cecd7-3c59-4735-d24a-ad15e41cfa1b"
      },
      "outputs": [
        {
          "name": "stdout",
          "output_type": "stream",
          "text": [
            "\"longitude\",\"latitude\",\"housing_median_age\",\"total_rooms\",\"total_bedrooms\",\"population\",\"households\",\"median_income\",\"median_house_value\"\n",
            "\n",
            "-122.050000,37.370000,27.000000,3885.000000,661.000000,1537.000000,606.000000,6.608500,344700.000000\n",
            "\n",
            "-118.300000,34.260000,43.000000,1510.000000,310.000000,809.000000,277.000000,3.599000,176500.000000\n",
            "\n",
            "-117.810000,33.780000,27.000000,3589.000000,507.000000,1484.000000,495.000000,5.793400,270500.000000\n",
            "\n",
            "-118.360000,33.820000,28.000000,67.000000,15.000000,49.000000,11.000000,6.135900,330000.000000\n",
            "\n",
            "-119.670000,36.330000,19.000000,1241.000000,244.000000,850.000000,237.000000,2.937500,81700.000000\n",
            "\n"
          ]
        }
      ],
      "source": [
        "filename = './sample_data/california_housing_test.csv'\n",
        "line_count = 0\n",
        "with open(filename, 'r') as fl:\n",
        "    for line in fl:\n",
        "        if line_count > 5: break\n",
        "        print(line)\n",
        "        line_count += 1\n"
      ]
    },
    {
      "cell_type": "markdown",
      "metadata": {
        "id": "bfvopm6RrkV3"
      },
      "source": [
        "## 7.6 Parsing data\n",
        "\n",
        "Reading some text out of a file is easy but to work with the data you actually have to parse it from a format (csv, json etc.) into something that you can work with in Python.\n",
        "\n",
        "Python has MANY ways to do this. Later on you will most likely use something like PANDAS but for now lets use the plain old ```CSV``` module:"
      ]
    },
    {
      "cell_type": "code",
      "execution_count": null,
      "metadata": {
        "colab": {
          "base_uri": "https://localhost:8080/"
        },
        "id": "OOWaw5IIr8tz",
        "outputId": "c32d78b7-1743-4ffd-d00b-75787e26922e"
      },
      "outputs": [
        {
          "name": "stdout",
          "output_type": "stream",
          "text": [
            "Here are CSV contents\n",
            "Row: longitude | latitude | housing_median_age ... and so on\n",
            "Row: -122.050000 | 37.370000 | 27.000000 ... and so on\n",
            "Row: -118.300000 | 34.260000 | 43.000000 ... and so on\n"
          ]
        }
      ],
      "source": [
        "import csv\n",
        "\n",
        "filename = './sample_data/california_housing_test.csv'\n",
        "row_count = 0\n",
        "with open(filename, 'r') as fl:\n",
        "  csvreader = csv.reader(fl, delimiter=',', quotechar='\"')\n",
        "  print(\"Here are CSV contents\")\n",
        "  for row in csvreader:\n",
        "    # only process the first few rows\n",
        "    if row_count > 2: break\n",
        "\n",
        "    # row is a list\n",
        "    print(\"Row: %s | %s | %s ... and so on\" % (row[0], row[1], row[2]))\n",
        "    row_count += 1\n"
      ]
    },
    {
      "cell_type": "markdown",
      "metadata": {
        "id": "ymQRie_qt_s0"
      },
      "source": [
        "Pretty much all the parsing of data follows the same format: open the source, pass it to some reader that understands the format and finally read and consume the data.\n",
        "\n",
        "Of course, now that you have access to the data and it has been parsed into rows and columns (like an Excel spreadsheet), you might have to do some conversion, cleaning and sometimes even interpretation of data.\n",
        "\n",
        "Case in point: a record might have a \"date_created\" value like '2017-11-13 10:22:54.677'. You know it's a date but when you loop through the rows and columns, the CSV parser returns as as a simple string and if you need to perform any calculation on the date or change the format how it is displayed you will need to parse the string into a dat/time type. Fortunately, Python has many modules that will help you to parse and convert data from strings.\n",
        "\n",
        "## 7.7 Dealing with dates\n",
        "Dates and times are complicated. You will have to deal with many formats, timezones and at times just plain bad data. Python has the [```datatime```](https://docs.python.org/3/library/datetime.html) module that can deal with reasonable data and quite a few libraries if something more robust is needed.\n",
        "\n",
        "The below code, imports the datetime library and uses the datetime module (it's unfortunate that both have the same name) and specifically, the ```strptime``` method, to parse a string and convert it into a date by telling it what format the date has:"
      ]
    },
    {
      "cell_type": "code",
      "execution_count": null,
      "metadata": {
        "id": "z05lH1ytosyk"
      },
      "outputs": [],
      "source": [
        "# import the lib\n",
        "import datetime\n",
        "\n",
        "# store a string representation of a date\n",
        "my_date = \"2017-11-13 10:22:54.677\"\n",
        "\n",
        "# parse the string into a date\n",
        "date = datetime.datetime.strptime(my_date, '%Y-%m-%d %H:%M:%S.%f')\n",
        "\n",
        "print(\"Date:%s\" % date)\n",
        "print(\"Day: %s\" % date.day)\n",
        "print(\"Month: %s\" % date.month)\n",
        "print(\"Year: %s\" % date.year)"
      ]
    },
    {
      "cell_type": "markdown",
      "metadata": {
        "id": "vUjb4dSNowVF"
      },
      "source": [
        "Once you have a date type, you can easily perform calculations on it using [```timedelta```](https://docs.python.org/3/library/datetime.html#timedelta-objects) or format it a certain way using [```strftime```](https://docs.python.org/3/library/datetime.html#strftime-and-strptime-behavior).\n",
        "\n",
        "## 7.8 Dealing with numbers\n",
        "Converting strings to numbers, for instance integers and floats is very easy:"
      ]
    },
    {
      "cell_type": "code",
      "execution_count": null,
      "metadata": {
        "id": "T0wXrCQdoyz6"
      },
      "outputs": [],
      "source": [
        "\n",
        "numbers = [\"1\", \"99\", \"45\", \"9999\"]\n",
        "\n",
        "for n in numbers:\n",
        "  print(\"This is an integer: %s\" % int(n))\n",
        "  print(\"and this is a float: %s\" % float(n))\n"
      ]
    },
    {
      "cell_type": "markdown",
      "metadata": {
        "id": "ljk7cDygo5_A"
      },
      "source": [
        "9.9 Dealing with bad strings\n",
        "Don't make any assumptions about your data and for the most part don't trust it is a good mantra to live by. Any data supplied from an external source and specifically when it's user based data will have many anomalies that you will have to deal with.\n",
        "\n",
        "CustomerId, FirstName, LastName, Phone\n",
        "1, JOHN, SMITH, 9497778888\n",
        "1, JOhn, smith , 9497778888\n",
        "Are the above the same customer? Most likely, but to your Python program that might not be the same.\n",
        "\n",
        "We have covered strings in section 2.5 a little bit, but here are a few more string functions that will make your life easier when dealing with bad data:"
      ]
    },
    {
      "cell_type": "code",
      "execution_count": null,
      "metadata": {
        "id": "0NBHEe6Io66n"
      },
      "outputs": [],
      "source": [
        "# dealing with white space: strip, lstrip and rstrip\n",
        "string_with_white_space = \" smith  \"\n",
        "print(\"Value:%s!\" % string_with_white_space.strip())\n",
        "print(\"Value:%s!\" % string_with_white_space.lstrip())\n",
        "print(\"Value:%s!\" % string_with_white_space.rstrip())\n",
        "\n",
        "# converting case: upper, lower, capitalize\n",
        "last_name = string_with_white_space.strip()\n",
        "print(\"Lower case: %s\" % last_name.lower())\n",
        "print(\"Upper case: %s\" % last_name.upper())\n",
        "print(\"Capitalized: %s\" % last_name.capitalize())"
      ]
    },
    {
      "cell_type": "markdown",
      "metadata": {
        "id": "tCLHeQ3_o_y_"
      },
      "source": [
        "Here is a great summary of all the string functions."
      ]
    }
  ],
  "metadata": {
    "colab": {
      "name": "[MERGED-REDUCED] Python3CrashCourse.ipynb",
      "provenance": [],
      "toc_visible": true
    },
    "kernelspec": {
      "display_name": "Python 3 (ipykernel)",
      "language": "python",
      "name": "python3"
    },
    "language_info": {
      "codemirror_mode": {
        "name": "ipython",
        "version": 3
      },
      "file_extension": ".py",
      "mimetype": "text/x-python",
      "name": "python",
      "nbconvert_exporter": "python",
      "pygments_lexer": "ipython3",
      "version": "3.9.9"
    }
  },
  "nbformat": 4,
  "nbformat_minor": 0
}